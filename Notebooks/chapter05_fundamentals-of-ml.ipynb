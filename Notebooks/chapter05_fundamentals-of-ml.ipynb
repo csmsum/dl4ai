{
  "cells": [
    {
      "cell_type": "markdown",
      "metadata": {
        "id": "QhMWjsIWwfKC"
      },
      "source": [
        "This is a companion notebook for the book [Deep Learning with Python, Second Edition](https://www.manning.com/books/deep-learning-with-python-second-edition?a_aid=keras&a_bid=76564dff). For readability, it only contains runnable code blocks and section titles, and omits everything else in the book: text paragraphs, figures, and pseudocode.\n",
        "\n",
        "**If you want to be able to follow what's going on, I recommend reading the notebook side by side with your copy of the book.**\n",
        "\n",
        "This notebook was generated for TensorFlow 2.6."
      ]
    },
    {
      "cell_type": "markdown",
      "metadata": {
        "id": "Hz02qhw4wfKE"
      },
      "source": [
        "# Fundamentals of machine learning"
      ]
    },
    {
      "cell_type": "markdown",
      "metadata": {
        "id": "6akdl2PvwfKE"
      },
      "source": [
        "## Generalization: The goal of machine learning"
      ]
    },
    {
      "cell_type": "markdown",
      "metadata": {
        "id": "S7fjWj6lwfKF"
      },
      "source": [
        "### Underfitting and overfitting"
      ]
    },
    {
      "cell_type": "markdown",
      "metadata": {
        "id": "9hfmsI6LwfKF"
      },
      "source": [
        "#### Noisy training data"
      ]
    },
    {
      "cell_type": "markdown",
      "metadata": {
        "id": "SKnEH1xSwfKF"
      },
      "source": [
        "#### Ambiguous features"
      ]
    },
    {
      "cell_type": "markdown",
      "metadata": {
        "id": "_lZe4m-ZwfKF"
      },
      "source": [
        "#### Rare features and spurious correlations"
      ]
    },
    {
      "cell_type": "markdown",
      "metadata": {
        "id": "X4C7CZDlwfKG"
      },
      "source": [
        "**Adding white-noise channels or all-zeros channels to MNIST**"
      ]
    },
    {
      "cell_type": "code",
      "execution_count": 3,
      "metadata": {
        "id": "FFelN5ZDwfKG"
      },
      "outputs": [],
      "source": [
        "from tensorflow.keras.datasets import mnist\n",
        "import numpy as np\n",
        "\n",
        "(train_images, train_labels), _ = mnist.load_data()\n",
        "train_images = train_images.reshape((60000, 28 * 28))\n",
        "train_images = train_images.astype(\"float32\") / 255\n",
        "\n",
        "train_images_with_noise_channels = np.concatenate(\n",
        "    [train_images, np.random.random((len(train_images), 784))], axis=1)\n",
        "\n",
        "train_images_with_zeros_channels = np.concatenate(\n",
        "    [train_images, np.zeros((len(train_images), 784))], axis=1)"
      ]
    },
    {
      "cell_type": "code",
      "source": [
        "np.zeros((len(train_images), 784)).shape"
      ],
      "metadata": {
        "id": "LEf0PA3pyY0O",
        "outputId": "a040bf39-4900-49c1-ea1c-e490ab936a92",
        "colab": {
          "base_uri": "https://localhost:8080/"
        }
      },
      "execution_count": 13,
      "outputs": [
        {
          "output_type": "execute_result",
          "data": {
            "text/plain": [
              "(60000, 784)"
            ]
          },
          "metadata": {},
          "execution_count": 13
        }
      ]
    },
    {
      "cell_type": "markdown",
      "metadata": {
        "id": "TVFZXFXjwfKH"
      },
      "source": [
        "**Training the same model on MNIST data with noise channels or all-zero channels**"
      ]
    },
    {
      "cell_type": "code",
      "execution_count": 21,
      "metadata": {
        "id": "MVLR9KPqwfKH",
        "outputId": "722e5159-e48b-4cc9-8408-f5f0b161d610",
        "colab": {
          "base_uri": "https://localhost:8080/",
          "height": 1000
        }
      },
      "outputs": [
        {
          "output_type": "stream",
          "name": "stdout",
          "text": [
            "Epoch 1/10\n",
            "375/375 [==============================] - 2s 4ms/step - loss: 0.2918 - accuracy: 0.9147 - val_loss: 0.1647 - val_accuracy: 0.9517\n",
            "Epoch 2/10\n",
            "375/375 [==============================] - 2s 4ms/step - loss: 0.1233 - accuracy: 0.9640 - val_loss: 0.1096 - val_accuracy: 0.9675\n",
            "Epoch 3/10\n",
            "375/375 [==============================] - 1s 4ms/step - loss: 0.0808 - accuracy: 0.9763 - val_loss: 0.0899 - val_accuracy: 0.9742\n",
            "Epoch 4/10\n",
            "375/375 [==============================] - 2s 4ms/step - loss: 0.0588 - accuracy: 0.9828 - val_loss: 0.0811 - val_accuracy: 0.9750\n",
            "Epoch 5/10\n",
            "375/375 [==============================] - 1s 4ms/step - loss: 0.0435 - accuracy: 0.9874 - val_loss: 0.0794 - val_accuracy: 0.9766\n",
            "Epoch 6/10\n",
            "375/375 [==============================] - 1s 4ms/step - loss: 0.0330 - accuracy: 0.9899 - val_loss: 0.0791 - val_accuracy: 0.9767\n",
            "Epoch 7/10\n",
            "375/375 [==============================] - 1s 3ms/step - loss: 0.0251 - accuracy: 0.9927 - val_loss: 0.0778 - val_accuracy: 0.9776\n",
            "Epoch 8/10\n",
            "375/375 [==============================] - 2s 6ms/step - loss: 0.0191 - accuracy: 0.9948 - val_loss: 0.0762 - val_accuracy: 0.9793\n",
            "Epoch 9/10\n",
            "375/375 [==============================] - 2s 4ms/step - loss: 0.0139 - accuracy: 0.9965 - val_loss: 0.0752 - val_accuracy: 0.9796\n",
            "Epoch 10/10\n",
            "375/375 [==============================] - 1s 4ms/step - loss: 0.0105 - accuracy: 0.9975 - val_loss: 0.0800 - val_accuracy: 0.9794\n",
            "Epoch 1/10\n"
          ]
        },
        {
          "output_type": "error",
          "ename": "InvalidArgumentError",
          "evalue": "ignored",
          "traceback": [
            "\u001b[0;31m---------------------------------------------------------------------------\u001b[0m",
            "\u001b[0;31mInvalidArgumentError\u001b[0m                      Traceback (most recent call last)",
            "\u001b[0;32m<ipython-input-21-257bdfe3edba>\u001b[0m in \u001b[0;36m<cell line: 20>\u001b[0;34m()\u001b[0m\n\u001b[1;32m     18\u001b[0m     \u001b[0mbatch_size\u001b[0m\u001b[0;34m=\u001b[0m\u001b[0;36m128\u001b[0m\u001b[0;34m,\u001b[0m\u001b[0;34m\u001b[0m\u001b[0;34m\u001b[0m\u001b[0m\n\u001b[1;32m     19\u001b[0m     validation_split=0.2)\n\u001b[0;32m---> 20\u001b[0;31m history_noise = model.fit(\n\u001b[0m\u001b[1;32m     21\u001b[0m     \u001b[0mtrain_images_with_noise_channels\u001b[0m\u001b[0;34m,\u001b[0m \u001b[0mtrain_labels\u001b[0m\u001b[0;34m,\u001b[0m\u001b[0;34m\u001b[0m\u001b[0;34m\u001b[0m\u001b[0m\n\u001b[1;32m     22\u001b[0m     \u001b[0mepochs\u001b[0m\u001b[0;34m=\u001b[0m\u001b[0;36m10\u001b[0m\u001b[0;34m,\u001b[0m\u001b[0;34m\u001b[0m\u001b[0;34m\u001b[0m\u001b[0m\n",
            "\u001b[0;32m/usr/local/lib/python3.9/dist-packages/keras/utils/traceback_utils.py\u001b[0m in \u001b[0;36merror_handler\u001b[0;34m(*args, **kwargs)\u001b[0m\n\u001b[1;32m     68\u001b[0m             \u001b[0;31m# To get the full stack trace, call:\u001b[0m\u001b[0;34m\u001b[0m\u001b[0;34m\u001b[0m\u001b[0m\n\u001b[1;32m     69\u001b[0m             \u001b[0;31m# `tf.debugging.disable_traceback_filtering()`\u001b[0m\u001b[0;34m\u001b[0m\u001b[0;34m\u001b[0m\u001b[0m\n\u001b[0;32m---> 70\u001b[0;31m             \u001b[0;32mraise\u001b[0m \u001b[0me\u001b[0m\u001b[0;34m.\u001b[0m\u001b[0mwith_traceback\u001b[0m\u001b[0;34m(\u001b[0m\u001b[0mfiltered_tb\u001b[0m\u001b[0;34m)\u001b[0m \u001b[0;32mfrom\u001b[0m \u001b[0;32mNone\u001b[0m\u001b[0;34m\u001b[0m\u001b[0;34m\u001b[0m\u001b[0m\n\u001b[0m\u001b[1;32m     71\u001b[0m         \u001b[0;32mfinally\u001b[0m\u001b[0;34m:\u001b[0m\u001b[0;34m\u001b[0m\u001b[0;34m\u001b[0m\u001b[0m\n\u001b[1;32m     72\u001b[0m             \u001b[0;32mdel\u001b[0m \u001b[0mfiltered_tb\u001b[0m\u001b[0;34m\u001b[0m\u001b[0;34m\u001b[0m\u001b[0m\n",
            "\u001b[0;32m/usr/local/lib/python3.9/dist-packages/tensorflow/python/eager/execute.py\u001b[0m in \u001b[0;36mquick_execute\u001b[0;34m(op_name, num_outputs, inputs, attrs, ctx, name)\u001b[0m\n\u001b[1;32m     50\u001b[0m   \u001b[0;32mtry\u001b[0m\u001b[0;34m:\u001b[0m\u001b[0;34m\u001b[0m\u001b[0;34m\u001b[0m\u001b[0m\n\u001b[1;32m     51\u001b[0m     \u001b[0mctx\u001b[0m\u001b[0;34m.\u001b[0m\u001b[0mensure_initialized\u001b[0m\u001b[0;34m(\u001b[0m\u001b[0;34m)\u001b[0m\u001b[0;34m\u001b[0m\u001b[0;34m\u001b[0m\u001b[0m\n\u001b[0;32m---> 52\u001b[0;31m     tensors = pywrap_tfe.TFE_Py_Execute(ctx._handle, device_name, op_name,\n\u001b[0m\u001b[1;32m     53\u001b[0m                                         inputs, attrs, num_outputs)\n\u001b[1;32m     54\u001b[0m   \u001b[0;32mexcept\u001b[0m \u001b[0mcore\u001b[0m\u001b[0;34m.\u001b[0m\u001b[0m_NotOkStatusException\u001b[0m \u001b[0;32mas\u001b[0m \u001b[0me\u001b[0m\u001b[0;34m:\u001b[0m\u001b[0;34m\u001b[0m\u001b[0;34m\u001b[0m\u001b[0m\n",
            "\u001b[0;31mInvalidArgumentError\u001b[0m: Graph execution error:\n\nDetected at node 'sequential_8/dense_16/MatMul' defined at (most recent call last):\n    File \"/usr/lib/python3.9/runpy.py\", line 197, in _run_module_as_main\n      return _run_code(code, main_globals, None,\n    File \"/usr/lib/python3.9/runpy.py\", line 87, in _run_code\n      exec(code, run_globals)\n    File \"/usr/local/lib/python3.9/dist-packages/ipykernel_launcher.py\", line 16, in <module>\n      app.launch_new_instance()\n    File \"/usr/local/lib/python3.9/dist-packages/traitlets/config/application.py\", line 992, in launch_instance\n      app.start()\n    File \"/usr/local/lib/python3.9/dist-packages/ipykernel/kernelapp.py\", line 619, in start\n      self.io_loop.start()\n    File \"/usr/local/lib/python3.9/dist-packages/tornado/platform/asyncio.py\", line 215, in start\n      self.asyncio_loop.run_forever()\n    File \"/usr/lib/python3.9/asyncio/base_events.py\", line 601, in run_forever\n      self._run_once()\n    File \"/usr/lib/python3.9/asyncio/base_events.py\", line 1905, in _run_once\n      handle._run()\n    File \"/usr/lib/python3.9/asyncio/events.py\", line 80, in _run\n      self._context.run(self._callback, *self._args)\n    File \"/usr/local/lib/python3.9/dist-packages/tornado/ioloop.py\", line 687, in <lambda>\n      lambda f: self._run_callback(functools.partial(callback, future))\n    File \"/usr/local/lib/python3.9/dist-packages/tornado/ioloop.py\", line 740, in _run_callback\n      ret = callback()\n    File \"/usr/local/lib/python3.9/dist-packages/tornado/gen.py\", line 821, in inner\n      self.ctx_run(self.run)\n    File \"/usr/local/lib/python3.9/dist-packages/tornado/gen.py\", line 782, in run\n      yielded = self.gen.send(value)\n    File \"/usr/local/lib/python3.9/dist-packages/ipykernel/kernelbase.py\", line 361, in process_one\n      yield gen.maybe_future(dispatch(*args))\n    File \"/usr/local/lib/python3.9/dist-packages/tornado/gen.py\", line 234, in wrapper\n      yielded = ctx_run(next, result)\n    File \"/usr/local/lib/python3.9/dist-packages/ipykernel/kernelbase.py\", line 261, in dispatch_shell\n      yield gen.maybe_future(handler(stream, idents, msg))\n    File \"/usr/local/lib/python3.9/dist-packages/tornado/gen.py\", line 234, in wrapper\n      yielded = ctx_run(next, result)\n    File \"/usr/local/lib/python3.9/dist-packages/ipykernel/kernelbase.py\", line 539, in execute_request\n      self.do_execute(\n    File \"/usr/local/lib/python3.9/dist-packages/tornado/gen.py\", line 234, in wrapper\n      yielded = ctx_run(next, result)\n    File \"/usr/local/lib/python3.9/dist-packages/ipykernel/ipkernel.py\", line 302, in do_execute\n      res = shell.run_cell(code, store_history=store_history, silent=silent)\n    File \"/usr/local/lib/python3.9/dist-packages/ipykernel/zmqshell.py\", line 539, in run_cell\n      return super(ZMQInteractiveShell, self).run_cell(*args, **kwargs)\n    File \"/usr/local/lib/python3.9/dist-packages/IPython/core/interactiveshell.py\", line 2975, in run_cell\n      result = self._run_cell(\n    File \"/usr/local/lib/python3.9/dist-packages/IPython/core/interactiveshell.py\", line 3030, in _run_cell\n      return runner(coro)\n    File \"/usr/local/lib/python3.9/dist-packages/IPython/core/async_helpers.py\", line 78, in _pseudo_sync_runner\n      coro.send(None)\n    File \"/usr/local/lib/python3.9/dist-packages/IPython/core/interactiveshell.py\", line 3257, in run_cell_async\n      has_raised = await self.run_ast_nodes(code_ast.body, cell_name,\n    File \"/usr/local/lib/python3.9/dist-packages/IPython/core/interactiveshell.py\", line 3473, in run_ast_nodes\n      if (await self.run_code(code, result,  async_=asy)):\n    File \"/usr/local/lib/python3.9/dist-packages/IPython/core/interactiveshell.py\", line 3553, in run_code\n      exec(code_obj, self.user_global_ns, self.user_ns)\n    File \"<ipython-input-21-257bdfe3edba>\", line 20, in <cell line: 20>\n      history_noise = model.fit(\n    File \"/usr/local/lib/python3.9/dist-packages/keras/utils/traceback_utils.py\", line 65, in error_handler\n      return fn(*args, **kwargs)\n    File \"/usr/local/lib/python3.9/dist-packages/keras/engine/training.py\", line 1685, in fit\n      tmp_logs = self.train_function(iterator)\n    File \"/usr/local/lib/python3.9/dist-packages/keras/engine/training.py\", line 1284, in train_function\n      return step_function(self, iterator)\n    File \"/usr/local/lib/python3.9/dist-packages/keras/engine/training.py\", line 1268, in step_function\n      outputs = model.distribute_strategy.run(run_step, args=(data,))\n    File \"/usr/local/lib/python3.9/dist-packages/keras/engine/training.py\", line 1249, in run_step\n      outputs = model.train_step(data)\n    File \"/usr/local/lib/python3.9/dist-packages/keras/engine/training.py\", line 1050, in train_step\n      y_pred = self(x, training=True)\n    File \"/usr/local/lib/python3.9/dist-packages/keras/utils/traceback_utils.py\", line 65, in error_handler\n      return fn(*args, **kwargs)\n    File \"/usr/local/lib/python3.9/dist-packages/keras/engine/training.py\", line 558, in __call__\n      return super().__call__(*args, **kwargs)\n    File \"/usr/local/lib/python3.9/dist-packages/keras/utils/traceback_utils.py\", line 65, in error_handler\n      return fn(*args, **kwargs)\n    File \"/usr/local/lib/python3.9/dist-packages/keras/engine/base_layer.py\", line 1145, in __call__\n      outputs = call_fn(inputs, *args, **kwargs)\n    File \"/usr/local/lib/python3.9/dist-packages/keras/utils/traceback_utils.py\", line 96, in error_handler\n      return fn(*args, **kwargs)\n    File \"/usr/local/lib/python3.9/dist-packages/keras/engine/sequential.py\", line 412, in call\n      return super().call(inputs, training=training, mask=mask)\n    File \"/usr/local/lib/python3.9/dist-packages/keras/engine/functional.py\", line 512, in call\n      return self._run_internal_graph(inputs, training=training, mask=mask)\n    File \"/usr/local/lib/python3.9/dist-packages/keras/engine/functional.py\", line 669, in _run_internal_graph\n      outputs = node.layer(*args, **kwargs)\n    File \"/usr/local/lib/python3.9/dist-packages/keras/utils/traceback_utils.py\", line 65, in error_handler\n      return fn(*args, **kwargs)\n    File \"/usr/local/lib/python3.9/dist-packages/keras/engine/base_layer.py\", line 1145, in __call__\n      outputs = call_fn(inputs, *args, **kwargs)\n    File \"/usr/local/lib/python3.9/dist-packages/keras/utils/traceback_utils.py\", line 96, in error_handler\n      return fn(*args, **kwargs)\n    File \"/usr/local/lib/python3.9/dist-packages/keras/layers/core/dense.py\", line 241, in call\n      outputs = tf.matmul(a=inputs, b=self.kernel)\nNode: 'sequential_8/dense_16/MatMul'\nMatrix size-incompatible: In[0]: [128,1568], In[1]: [784,512]\n\t [[{{node sequential_8/dense_16/MatMul}}]] [Op:__inference_train_function_388282]"
          ]
        }
      ],
      "source": [
        "from tensorflow import keras\n",
        "from tensorflow.keras import layers\n",
        "\n",
        "def get_model():\n",
        "    model = keras.Sequential([\n",
        "        layers.Dense(512, activation=\"relu\"),\n",
        "        layers.Dense(10, activation=\"softmax\")\n",
        "    ])\n",
        "    model.compile(optimizer=\"rmsprop\",\n",
        "                  loss=\"sparse_categorical_crossentropy\",\n",
        "                  metrics=[\"accuracy\"])\n",
        "    return model\n",
        "\n",
        "model = get_model()\n",
        "history_train = model.fit(\n",
        "    train_images, train_labels,\n",
        "    epochs=10,\n",
        "    batch_size=128,\n",
        "    validation_split=0.2)\n",
        "history_noise = model.fit(\n",
        "    train_images_with_noise_channels, train_labels,\n",
        "    epochs=10,\n",
        "    batch_size=128,\n",
        "    validation_split=0.2)\n",
        "\n",
        "model = get_model()\n",
        "history_zeros = model.fit(\n",
        "    train_images_with_zeros_channels, train_labels,\n",
        "    epochs=10,\n",
        "    batch_size=128,\n",
        "    validation_split=0.2)"
      ]
    },
    {
      "cell_type": "markdown",
      "metadata": {
        "id": "lxc2irH-wfKI"
      },
      "source": [
        "**Plotting a validation accuracy comparison**"
      ]
    },
    {
      "cell_type": "code",
      "execution_count": 22,
      "metadata": {
        "id": "BiIA9vCfwfKI",
        "outputId": "e7201d2f-44d0-4d36-f10b-1785fb46e06c",
        "colab": {
          "base_uri": "https://localhost:8080/",
          "height": 490
        }
      },
      "outputs": [
        {
          "output_type": "execute_result",
          "data": {
            "text/plain": [
              "<matplotlib.legend.Legend at 0x7f4ea0b9c340>"
            ]
          },
          "metadata": {},
          "execution_count": 22
        },
        {
          "output_type": "display_data",
          "data": {
            "text/plain": [
              "<Figure size 640x480 with 1 Axes>"
            ],
            "image/png": "[encoded data removed]"
          },
          "metadata": {}
        }
      ],
      "source": [
        "import matplotlib.pyplot as plt\n",
        "val_acc_train = history_train.history[\"val_accuracy\"]\n",
        "val_acc_noise = history_noise.history[\"val_accuracy\"]\n",
        "val_acc_zeros = history_zeros.history[\"val_accuracy\"]\n",
        "epochs = range(1, 11)\n",
        "plt.plot(epochs, val_acc_train, \"b-\",\n",
        "         label=\"Validation accuracy with train channels\")\n",
        "plt.plot(epochs, val_acc_noise, \"b-\",\n",
        "         label=\"Validation accuracy with noise channels\")\n",
        "plt.plot(epochs, val_acc_zeros, \"b--\",\n",
        "         label=\"Validation accuracy with zeros channels\")\n",
        "plt.title(\"Effect of noise channels on validation accuracy\")\n",
        "plt.xlabel(\"Epochs\")\n",
        "plt.ylabel(\"Accuracy\")\n",
        "plt.legend()"
      ]
    },
    {
      "cell_type": "markdown",
      "metadata": {
        "id": "8TusbOV5wfKI"
      },
      "source": [
        "### The nature of generalization in deep learning"
      ]
    },
    {
      "cell_type": "markdown",
      "metadata": {
        "id": "qOWDCUNuwfKI"
      },
      "source": [
        "**Fitting a MNIST model with randomly shuffled labels**"
      ]
    },
    {
      "cell_type": "code",
      "execution_count": 35,
      "metadata": {
        "id": "3a3g1I-2wfKI",
        "outputId": "4f9a94bb-a2ee-4b5f-f794-fcf5841adbe6",
        "colab": {
          "base_uri": "https://localhost:8080/"
        }
      },
      "outputs": [
        {
          "output_type": "stream",
          "name": "stdout",
          "text": [
            "Epoch 1/100\n",
            "375/375 [==============================] - 2s 4ms/step - loss: 2.3149 - accuracy: 0.1044 - val_loss: 2.3100 - val_accuracy: 0.1028\n",
            "Epoch 2/100\n",
            "375/375 [==============================] - 1s 3ms/step - loss: 2.3002 - accuracy: 0.1152 - val_loss: 2.3126 - val_accuracy: 0.0996\n",
            "Epoch 3/100\n",
            "375/375 [==============================] - 1s 3ms/step - loss: 2.2928 - accuracy: 0.1262 - val_loss: 2.3140 - val_accuracy: 0.1007\n",
            "Epoch 4/100\n",
            "375/375 [==============================] - 1s 3ms/step - loss: 2.2820 - accuracy: 0.1365 - val_loss: 2.3227 - val_accuracy: 0.1013\n",
            "Epoch 5/100\n",
            "375/375 [==============================] - 1s 3ms/step - loss: 2.2658 - accuracy: 0.1480 - val_loss: 2.3311 - val_accuracy: 0.1007\n",
            "Epoch 6/100\n",
            "375/375 [==============================] - 1s 3ms/step - loss: 2.2468 - accuracy: 0.1640 - val_loss: 2.3463 - val_accuracy: 0.1037\n",
            "Epoch 7/100\n",
            "375/375 [==============================] - 1s 4ms/step - loss: 2.2234 - accuracy: 0.1777 - val_loss: 2.3574 - val_accuracy: 0.1031\n",
            "Epoch 8/100\n",
            "375/375 [==============================] - 2s 4ms/step - loss: 2.1972 - accuracy: 0.1926 - val_loss: 2.3804 - val_accuracy: 0.1014\n",
            "Epoch 9/100\n",
            "375/375 [==============================] - 1s 3ms/step - loss: 2.1677 - accuracy: 0.2126 - val_loss: 2.3926 - val_accuracy: 0.1027\n",
            "Epoch 10/100\n",
            "375/375 [==============================] - 1s 3ms/step - loss: 2.1354 - accuracy: 0.2242 - val_loss: 2.4186 - val_accuracy: 0.1000\n",
            "Epoch 11/100\n",
            "375/375 [==============================] - 1s 3ms/step - loss: 2.1007 - accuracy: 0.2428 - val_loss: 2.4487 - val_accuracy: 0.1037\n",
            "Epoch 12/100\n",
            "375/375 [==============================] - 1s 3ms/step - loss: 2.0649 - accuracy: 0.2615 - val_loss: 2.4683 - val_accuracy: 0.0983\n",
            "Epoch 13/100\n",
            "375/375 [==============================] - 1s 3ms/step - loss: 2.0268 - accuracy: 0.2772 - val_loss: 2.4986 - val_accuracy: 0.1028\n",
            "Epoch 14/100\n",
            "375/375 [==============================] - 1s 3ms/step - loss: 1.9881 - accuracy: 0.2944 - val_loss: 2.5294 - val_accuracy: 0.1023\n",
            "Epoch 15/100\n",
            "375/375 [==============================] - 1s 3ms/step - loss: 1.9493 - accuracy: 0.3099 - val_loss: 2.5670 - val_accuracy: 0.1023\n",
            "Epoch 16/100\n",
            "375/375 [==============================] - 1s 3ms/step - loss: 1.9107 - accuracy: 0.3284 - val_loss: 2.5851 - val_accuracy: 0.0993\n",
            "Epoch 17/100\n",
            "375/375 [==============================] - 1s 4ms/step - loss: 1.8700 - accuracy: 0.3460 - val_loss: 2.6385 - val_accuracy: 0.0995\n",
            "Epoch 18/100\n",
            "375/375 [==============================] - 1s 4ms/step - loss: 1.8322 - accuracy: 0.3603 - val_loss: 2.6617 - val_accuracy: 0.1010\n",
            "Epoch 19/100\n",
            "375/375 [==============================] - 1s 3ms/step - loss: 1.7929 - accuracy: 0.3760 - val_loss: 2.7019 - val_accuracy: 0.0995\n",
            "Epoch 20/100\n",
            "375/375 [==============================] - 1s 3ms/step - loss: 1.7537 - accuracy: 0.3926 - val_loss: 2.7469 - val_accuracy: 0.0963\n",
            "Epoch 21/100\n",
            "375/375 [==============================] - 1s 4ms/step - loss: 1.7149 - accuracy: 0.4066 - val_loss: 2.7975 - val_accuracy: 0.1013\n",
            "Epoch 22/100\n",
            "375/375 [==============================] - 1s 3ms/step - loss: 1.6784 - accuracy: 0.4218 - val_loss: 2.8310 - val_accuracy: 0.0990\n",
            "Epoch 23/100\n",
            "375/375 [==============================] - 1s 3ms/step - loss: 1.6433 - accuracy: 0.4323 - val_loss: 2.8756 - val_accuracy: 0.1013\n",
            "Epoch 24/100\n",
            "375/375 [==============================] - 1s 3ms/step - loss: 1.6084 - accuracy: 0.4442 - val_loss: 2.9097 - val_accuracy: 0.1005\n",
            "Epoch 25/100\n",
            "375/375 [==============================] - 1s 3ms/step - loss: 1.5732 - accuracy: 0.4594 - val_loss: 2.9753 - val_accuracy: 0.1002\n",
            "Epoch 26/100\n",
            "375/375 [==============================] - 1s 3ms/step - loss: 1.5381 - accuracy: 0.4736 - val_loss: 3.0052 - val_accuracy: 0.1013\n",
            "Epoch 27/100\n",
            "375/375 [==============================] - 2s 4ms/step - loss: 1.5039 - accuracy: 0.4854 - val_loss: 3.0562 - val_accuracy: 0.1014\n",
            "Epoch 28/100\n",
            "375/375 [==============================] - 1s 4ms/step - loss: 1.4726 - accuracy: 0.4991 - val_loss: 3.1059 - val_accuracy: 0.1029\n",
            "Epoch 29/100\n",
            "375/375 [==============================] - 1s 3ms/step - loss: 1.4395 - accuracy: 0.5096 - val_loss: 3.1516 - val_accuracy: 0.1009\n",
            "Epoch 30/100\n",
            "375/375 [==============================] - 1s 3ms/step - loss: 1.4094 - accuracy: 0.5230 - val_loss: 3.2188 - val_accuracy: 0.1005\n",
            "Epoch 31/100\n",
            "375/375 [==============================] - 1s 3ms/step - loss: 1.3772 - accuracy: 0.5329 - val_loss: 3.3032 - val_accuracy: 0.0976\n",
            "Epoch 32/100\n",
            "375/375 [==============================] - 1s 3ms/step - loss: 1.3475 - accuracy: 0.5422 - val_loss: 3.3316 - val_accuracy: 0.0994\n",
            "Epoch 33/100\n",
            "375/375 [==============================] - 1s 3ms/step - loss: 1.3204 - accuracy: 0.5530 - val_loss: 3.3799 - val_accuracy: 0.0972\n",
            "Epoch 34/100\n",
            "375/375 [==============================] - 1s 3ms/step - loss: 1.2917 - accuracy: 0.5636 - val_loss: 3.4482 - val_accuracy: 0.0989\n",
            "Epoch 35/100\n",
            "375/375 [==============================] - 1s 3ms/step - loss: 1.2652 - accuracy: 0.5746 - val_loss: 3.5184 - val_accuracy: 0.0967\n",
            "Epoch 36/100\n",
            "375/375 [==============================] - 1s 3ms/step - loss: 1.2382 - accuracy: 0.5836 - val_loss: 3.5598 - val_accuracy: 0.1006\n",
            "Epoch 37/100\n",
            "375/375 [==============================] - 2s 4ms/step - loss: 1.2125 - accuracy: 0.5931 - val_loss: 3.6106 - val_accuracy: 0.0993\n",
            "Epoch 38/100\n",
            "375/375 [==============================] - 1s 3ms/step - loss: 1.1848 - accuracy: 0.6029 - val_loss: 3.6481 - val_accuracy: 0.1002\n",
            "Epoch 39/100\n",
            "375/375 [==============================] - 1s 3ms/step - loss: 1.1602 - accuracy: 0.6123 - val_loss: 3.7216 - val_accuracy: 0.1021\n",
            "Epoch 40/100\n",
            "375/375 [==============================] - 1s 3ms/step - loss: 1.1357 - accuracy: 0.6175 - val_loss: 3.7732 - val_accuracy: 0.1002\n",
            "Epoch 41/100\n",
            "375/375 [==============================] - 1s 3ms/step - loss: 1.1118 - accuracy: 0.6302 - val_loss: 3.8518 - val_accuracy: 0.1013\n",
            "Epoch 42/100\n",
            "375/375 [==============================] - 1s 3ms/step - loss: 1.0918 - accuracy: 0.6357 - val_loss: 3.8753 - val_accuracy: 0.1002\n",
            "Epoch 43/100\n",
            "375/375 [==============================] - 1s 3ms/step - loss: 1.0661 - accuracy: 0.6459 - val_loss: 3.9803 - val_accuracy: 0.1001\n",
            "Epoch 44/100\n",
            "375/375 [==============================] - 1s 3ms/step - loss: 1.0446 - accuracy: 0.6530 - val_loss: 4.0313 - val_accuracy: 0.0994\n",
            "Epoch 45/100\n",
            "375/375 [==============================] - 1s 3ms/step - loss: 1.0221 - accuracy: 0.6617 - val_loss: 4.0672 - val_accuracy: 0.0990\n",
            "Epoch 46/100\n",
            "375/375 [==============================] - 1s 3ms/step - loss: 1.0014 - accuracy: 0.6689 - val_loss: 4.1618 - val_accuracy: 0.0967\n",
            "Epoch 47/100\n",
            "375/375 [==============================] - 2s 4ms/step - loss: 0.9826 - accuracy: 0.6753 - val_loss: 4.1986 - val_accuracy: 0.0983\n",
            "Epoch 48/100\n",
            "375/375 [==============================] - 1s 4ms/step - loss: 0.9614 - accuracy: 0.6835 - val_loss: 4.2555 - val_accuracy: 0.1006\n",
            "Epoch 49/100\n",
            "375/375 [==============================] - 1s 3ms/step - loss: 0.9399 - accuracy: 0.6878 - val_loss: 4.3308 - val_accuracy: 0.0970\n",
            "Epoch 50/100\n",
            "375/375 [==============================] - 1s 4ms/step - loss: 0.9213 - accuracy: 0.6981 - val_loss: 4.4011 - val_accuracy: 0.0967\n",
            "Epoch 51/100\n",
            "375/375 [==============================] - 2s 4ms/step - loss: 0.9036 - accuracy: 0.7011 - val_loss: 4.4511 - val_accuracy: 0.0997\n",
            "Epoch 52/100\n",
            "375/375 [==============================] - 1s 3ms/step - loss: 0.8854 - accuracy: 0.7106 - val_loss: 4.5505 - val_accuracy: 0.0970\n",
            "Epoch 53/100\n",
            "375/375 [==============================] - 1s 4ms/step - loss: 0.8693 - accuracy: 0.7145 - val_loss: 4.6084 - val_accuracy: 0.0978\n",
            "Epoch 54/100\n",
            "375/375 [==============================] - 2s 4ms/step - loss: 0.8493 - accuracy: 0.7228 - val_loss: 4.6859 - val_accuracy: 0.0997\n",
            "Epoch 55/100\n",
            "375/375 [==============================] - 1s 3ms/step - loss: 0.8327 - accuracy: 0.7262 - val_loss: 4.7288 - val_accuracy: 0.1001\n",
            "Epoch 56/100\n",
            "375/375 [==============================] - 2s 6ms/step - loss: 0.8151 - accuracy: 0.7333 - val_loss: 4.8014 - val_accuracy: 0.0978\n",
            "Epoch 57/100\n",
            "375/375 [==============================] - 1s 4ms/step - loss: 0.7986 - accuracy: 0.7388 - val_loss: 4.8577 - val_accuracy: 0.1022\n",
            "Epoch 58/100\n",
            "375/375 [==============================] - 1s 4ms/step - loss: 0.7857 - accuracy: 0.7447 - val_loss: 4.9428 - val_accuracy: 0.1004\n",
            "Epoch 59/100\n",
            "375/375 [==============================] - 1s 3ms/step - loss: 0.7705 - accuracy: 0.7498 - val_loss: 4.9917 - val_accuracy: 0.1053\n",
            "Epoch 60/100\n",
            "375/375 [==============================] - 1s 3ms/step - loss: 0.7516 - accuracy: 0.7556 - val_loss: 5.0763 - val_accuracy: 0.0983\n",
            "Epoch 61/100\n",
            "375/375 [==============================] - 1s 3ms/step - loss: 0.7401 - accuracy: 0.7593 - val_loss: 5.1630 - val_accuracy: 0.0990\n",
            "Epoch 62/100\n",
            "375/375 [==============================] - 1s 3ms/step - loss: 0.7241 - accuracy: 0.7647 - val_loss: 5.2094 - val_accuracy: 0.1005\n",
            "Epoch 63/100\n",
            "375/375 [==============================] - 1s 3ms/step - loss: 0.7085 - accuracy: 0.7753 - val_loss: 5.2449 - val_accuracy: 0.0972\n",
            "Epoch 64/100\n",
            "375/375 [==============================] - 1s 3ms/step - loss: 0.6953 - accuracy: 0.7752 - val_loss: 5.3419 - val_accuracy: 0.1039\n",
            "Epoch 65/100\n",
            "375/375 [==============================] - 2s 4ms/step - loss: 0.6821 - accuracy: 0.7816 - val_loss: 5.4355 - val_accuracy: 0.1001\n",
            "Epoch 66/100\n",
            "375/375 [==============================] - 1s 3ms/step - loss: 0.6693 - accuracy: 0.7829 - val_loss: 5.5027 - val_accuracy: 0.0993\n",
            "Epoch 67/100\n",
            "375/375 [==============================] - 1s 3ms/step - loss: 0.6539 - accuracy: 0.7902 - val_loss: 5.5644 - val_accuracy: 0.0977\n",
            "Epoch 68/100\n",
            "375/375 [==============================] - 1s 3ms/step - loss: 0.6432 - accuracy: 0.7950 - val_loss: 5.6582 - val_accuracy: 0.0986\n",
            "Epoch 69/100\n",
            "375/375 [==============================] - 1s 3ms/step - loss: 0.6316 - accuracy: 0.7982 - val_loss: 5.7016 - val_accuracy: 0.0998\n",
            "Epoch 70/100\n",
            "375/375 [==============================] - 1s 3ms/step - loss: 0.6186 - accuracy: 0.8012 - val_loss: 5.7729 - val_accuracy: 0.0975\n",
            "Epoch 71/100\n",
            "375/375 [==============================] - 1s 3ms/step - loss: 0.6067 - accuracy: 0.8070 - val_loss: 5.8599 - val_accuracy: 0.0984\n",
            "Epoch 72/100\n",
            "375/375 [==============================] - 1s 3ms/step - loss: 0.5924 - accuracy: 0.8119 - val_loss: 5.9122 - val_accuracy: 0.0967\n",
            "Epoch 73/100\n",
            "375/375 [==============================] - 1s 3ms/step - loss: 0.5832 - accuracy: 0.8125 - val_loss: 6.0240 - val_accuracy: 0.0997\n",
            "Epoch 74/100\n",
            "375/375 [==============================] - 1s 4ms/step - loss: 0.5722 - accuracy: 0.8174 - val_loss: 6.1013 - val_accuracy: 0.0985\n",
            "Epoch 75/100\n",
            "375/375 [==============================] - 2s 4ms/step - loss: 0.5603 - accuracy: 0.8228 - val_loss: 6.1175 - val_accuracy: 0.0985\n",
            "Epoch 76/100\n",
            "375/375 [==============================] - 1s 3ms/step - loss: 0.5514 - accuracy: 0.8232 - val_loss: 6.2270 - val_accuracy: 0.0971\n",
            "Epoch 77/100\n",
            "375/375 [==============================] - 1s 3ms/step - loss: 0.5403 - accuracy: 0.8281 - val_loss: 6.2852 - val_accuracy: 0.1000\n",
            "Epoch 78/100\n",
            "375/375 [==============================] - 1s 3ms/step - loss: 0.5330 - accuracy: 0.8313 - val_loss: 6.3413 - val_accuracy: 0.1007\n",
            "Epoch 79/100\n",
            "375/375 [==============================] - 1s 3ms/step - loss: 0.5207 - accuracy: 0.8335 - val_loss: 6.4423 - val_accuracy: 0.1009\n",
            "Epoch 80/100\n",
            "375/375 [==============================] - 1s 3ms/step - loss: 0.5115 - accuracy: 0.8388 - val_loss: 6.4994 - val_accuracy: 0.0997\n",
            "Epoch 81/100\n",
            "375/375 [==============================] - 1s 3ms/step - loss: 0.5021 - accuracy: 0.8415 - val_loss: 6.5610 - val_accuracy: 0.0990\n",
            "Epoch 82/100\n",
            "375/375 [==============================] - 1s 3ms/step - loss: 0.4905 - accuracy: 0.8448 - val_loss: 6.6460 - val_accuracy: 0.0992\n",
            "Epoch 83/100\n",
            "375/375 [==============================] - 1s 3ms/step - loss: 0.4829 - accuracy: 0.8484 - val_loss: 6.6895 - val_accuracy: 0.1001\n",
            "Epoch 84/100\n",
            "375/375 [==============================] - 2s 4ms/step - loss: 0.4741 - accuracy: 0.8511 - val_loss: 6.7981 - val_accuracy: 0.0984\n",
            "Epoch 85/100\n",
            "375/375 [==============================] - 1s 4ms/step - loss: 0.4670 - accuracy: 0.8519 - val_loss: 6.8502 - val_accuracy: 0.0984\n",
            "Epoch 86/100\n",
            "375/375 [==============================] - 1s 3ms/step - loss: 0.4567 - accuracy: 0.8563 - val_loss: 6.9661 - val_accuracy: 0.0997\n",
            "Epoch 87/100\n",
            "375/375 [==============================] - 1s 3ms/step - loss: 0.4470 - accuracy: 0.8595 - val_loss: 7.0252 - val_accuracy: 0.0997\n",
            "Epoch 88/100\n",
            "375/375 [==============================] - 1s 3ms/step - loss: 0.4395 - accuracy: 0.8629 - val_loss: 7.1073 - val_accuracy: 0.1000\n",
            "Epoch 89/100\n",
            "375/375 [==============================] - 1s 3ms/step - loss: 0.4315 - accuracy: 0.8635 - val_loss: 7.1855 - val_accuracy: 0.1005\n",
            "Epoch 90/100\n",
            "375/375 [==============================] - 1s 3ms/step - loss: 0.4244 - accuracy: 0.8673 - val_loss: 7.2788 - val_accuracy: 0.1003\n",
            "Epoch 91/100\n",
            "375/375 [==============================] - 1s 3ms/step - loss: 0.4158 - accuracy: 0.8714 - val_loss: 7.3572 - val_accuracy: 0.0972\n",
            "Epoch 92/100\n",
            "375/375 [==============================] - 1s 3ms/step - loss: 0.4079 - accuracy: 0.8731 - val_loss: 7.4107 - val_accuracy: 0.0987\n",
            "Epoch 93/100\n",
            "375/375 [==============================] - 1s 3ms/step - loss: 0.4014 - accuracy: 0.8749 - val_loss: 7.4709 - val_accuracy: 0.0979\n",
            "Epoch 94/100\n",
            "375/375 [==============================] - 2s 4ms/step - loss: 0.3949 - accuracy: 0.8773 - val_loss: 7.4961 - val_accuracy: 0.0985\n",
            "Epoch 95/100\n",
            "375/375 [==============================] - 1s 4ms/step - loss: 0.3884 - accuracy: 0.8804 - val_loss: 7.6190 - val_accuracy: 0.0991\n",
            "Epoch 96/100\n",
            "375/375 [==============================] - 1s 3ms/step - loss: 0.3798 - accuracy: 0.8803 - val_loss: 7.7156 - val_accuracy: 0.0965\n",
            "Epoch 97/100\n",
            "375/375 [==============================] - 1s 3ms/step - loss: 0.3733 - accuracy: 0.8851 - val_loss: 7.8405 - val_accuracy: 0.1000\n",
            "Epoch 98/100\n",
            "375/375 [==============================] - 1s 3ms/step - loss: 0.3674 - accuracy: 0.8861 - val_loss: 7.8155 - val_accuracy: 0.0993\n",
            "Epoch 99/100\n",
            "375/375 [==============================] - 1s 3ms/step - loss: 0.3615 - accuracy: 0.8883 - val_loss: 7.9676 - val_accuracy: 0.0991\n",
            "Epoch 100/100\n",
            "375/375 [==============================] - 1s 3ms/step - loss: 0.3554 - accuracy: 0.8913 - val_loss: 7.9900 - val_accuracy: 0.0985\n"
          ]
        }
      ],
      "source": [
        "(train_images, train_labels), _ = mnist.load_data()\n",
        "train_images = train_images.reshape((60000, 28 * 28))\n",
        "train_images = train_images.astype(\"float32\") / 255\n",
        "\n",
        "random_train_labels = train_labels[:]\n",
        "np.random.shuffle(random_train_labels) #shuffle\n",
        "\n",
        "model = keras.Sequential([\n",
        "    layers.Dense(512, activation=\"relu\"),\n",
        "    layers.Dense(10, activation=\"softmax\")\n",
        "])\n",
        "model.compile(optimizer=\"rmsprop\",\n",
        "              loss=\"sparse_categorical_crossentropy\",\n",
        "              metrics=[\"accuracy\"])\n",
        "history = model.fit(train_images, random_train_labels,\n",
        "          epochs=100,\n",
        "          batch_size=128,\n",
        "          validation_split=0.2)"
      ]
    },
    {
      "cell_type": "code",
      "source": [
        "import matplotlib.pyplot as plt\n",
        "val_acc_train = history_train.history[\"val_accuracy\"]\n",
        "val_acc_noise = history_noise.history[\"accuracy\"]\n",
        "epochs = range(1, 11)\n",
        "plt.plot(epochs, val_acc_train, \"b-\",\n",
        "         label=\"Validation accuracy\")\n",
        "plt.plot(epochs, val_acc_noise, \"b-\",\n",
        "         label=\"Training accuracy\")\n",
        "plt.title(\"Train Vs Validation\")\n",
        "plt.xlabel(\"Epochs\")\n",
        "plt.ylabel(\"Accuracy\")\n",
        "plt.legend()"
      ],
      "metadata": {
        "id": "KW8MViUP6YSN",
        "outputId": "9cd67e8d-00ed-43fe-f6f9-1e94a953cbe7",
        "colab": {
          "base_uri": "https://localhost:8080/",
          "height": 490
        }
      },
      "execution_count": 37,
      "outputs": [
        {
          "output_type": "execute_result",
          "data": {
            "text/plain": [
              "<matplotlib.legend.Legend at 0x7f4eb6c7e130>"
            ]
          },
          "metadata": {},
          "execution_count": 37
        },
        {
          "output_type": "display_data",
          "data": {
            "text/plain": [
              "<Figure size 640x480 with 1 Axes>"
            ],
            "image/png": "[encoded data removed]"
          },
          "metadata": {}
        }
      ]
    },
    {
      "cell_type": "markdown",
      "metadata": {
        "id": "Gf_nD-4-wfKJ"
      },
      "source": [
        "#### The manifold hypothesis"
      ]
    },
    {
      "cell_type": "markdown",
      "metadata": {
        "id": "-4IaBjIQwfKJ"
      },
      "source": [
        "#### Interpolation as a source of generalization"
      ]
    },
    {
      "cell_type": "markdown",
      "metadata": {
        "id": "rev4xRbJwfKJ"
      },
      "source": [
        "#### Why deep learning works"
      ]
    },
    {
      "cell_type": "markdown",
      "metadata": {
        "id": "fAHWlvT0wfKJ"
      },
      "source": [
        "#### Training data is paramount"
      ]
    },
    {
      "cell_type": "markdown",
      "metadata": {
        "id": "gNv-crKbwfKJ"
      },
      "source": [
        "## Evaluating machine-learning models"
      ]
    },
    {
      "cell_type": "markdown",
      "metadata": {
        "id": "VGeeMDgMwfKJ"
      },
      "source": [
        "### Training, validation, and test sets"
      ]
    },
    {
      "cell_type": "markdown",
      "metadata": {
        "id": "bet53azowfKJ"
      },
      "source": [
        "#### Simple hold-out validation"
      ]
    },
    {
      "cell_type": "markdown",
      "metadata": {
        "id": "Ebwt8RMYwfKJ"
      },
      "source": [
        "#### K-fold validation"
      ]
    },
    {
      "cell_type": "markdown",
      "metadata": {
        "id": "MUUI-BLvwfKJ"
      },
      "source": [
        "#### Iterated K-fold validation with shuffling"
      ]
    },
    {
      "cell_type": "markdown",
      "metadata": {
        "id": "ncNmhb7RwfKK"
      },
      "source": [
        "### Beating a common-sense baseline"
      ]
    },
    {
      "cell_type": "markdown",
      "metadata": {
        "id": "3PWTd9PIwfKK"
      },
      "source": [
        "### Things to keep in mind about model evaluation"
      ]
    },
    {
      "cell_type": "markdown",
      "metadata": {
        "id": "32NrIbU_wfKK"
      },
      "source": [
        "## Improving model fit"
      ]
    },
    {
      "cell_type": "markdown",
      "metadata": {
        "id": "1YMEt-7gwfKK"
      },
      "source": [
        "### Tuning key gradient descent parameters"
      ]
    },
    {
      "cell_type": "markdown",
      "metadata": {
        "id": "oW-IVGcbwfKK"
      },
      "source": [
        "**Training a MNIST model with an incorrectly high learning rate**"
      ]
    },
    {
      "cell_type": "code",
      "execution_count": 16,
      "metadata": {
        "id": "XNa7TOilwfKK",
        "outputId": "a233ee47-d6dd-4c94-db99-7769f4c72d8d",
        "colab": {
          "base_uri": "https://localhost:8080/"
        }
      },
      "outputs": [
        {
          "output_type": "stream",
          "name": "stdout",
          "text": [
            "Epoch 1/10\n",
            "375/375 [==============================] - 2s 4ms/step - loss: 573.1983 - accuracy: 0.2808 - val_loss: 2.4981 - val_accuracy: 0.2417\n",
            "Epoch 2/10\n",
            "375/375 [==============================] - 1s 3ms/step - loss: 2.7109 - accuracy: 0.2126 - val_loss: 2.1244 - val_accuracy: 0.2533\n",
            "Epoch 3/10\n",
            "375/375 [==============================] - 1s 3ms/step - loss: 2.6174 - accuracy: 0.2196 - val_loss: 2.2115 - val_accuracy: 0.2246\n",
            "Epoch 4/10\n",
            "375/375 [==============================] - 1s 3ms/step - loss: 2.6924 - accuracy: 0.2181 - val_loss: 2.1886 - val_accuracy: 0.2320\n",
            "Epoch 5/10\n",
            "375/375 [==============================] - 1s 3ms/step - loss: 2.4113 - accuracy: 0.2200 - val_loss: 2.1743 - val_accuracy: 0.2344\n",
            "Epoch 6/10\n",
            "375/375 [==============================] - 1s 3ms/step - loss: 2.4463 - accuracy: 0.2204 - val_loss: 2.1386 - val_accuracy: 0.2462\n",
            "Epoch 7/10\n",
            "375/375 [==============================] - 1s 3ms/step - loss: 2.3572 - accuracy: 0.2276 - val_loss: 2.2058 - val_accuracy: 0.2388\n",
            "Epoch 8/10\n",
            "375/375 [==============================] - 1s 3ms/step - loss: 2.2913 - accuracy: 0.2097 - val_loss: 2.1707 - val_accuracy: 0.2246\n",
            "Epoch 9/10\n",
            "375/375 [==============================] - 2s 4ms/step - loss: 2.2598 - accuracy: 0.2254 - val_loss: 2.2573 - val_accuracy: 0.1602\n",
            "Epoch 10/10\n",
            "375/375 [==============================] - 1s 3ms/step - loss: 2.2743 - accuracy: 0.2245 - val_loss: 2.1315 - val_accuracy: 0.2323\n"
          ]
        },
        {
          "output_type": "execute_result",
          "data": {
            "text/plain": [
              "<keras.callbacks.History at 0x7f4eb6ed2070>"
            ]
          },
          "metadata": {},
          "execution_count": 16
        }
      ],
      "source": [
        "(train_images, train_labels), _ = mnist.load_data()\n",
        "train_images = train_images.reshape((60000, 28 * 28))\n",
        "train_images = train_images.astype(\"float32\") / 255\n",
        "\n",
        "model = keras.Sequential([\n",
        "    layers.Dense(512, activation=\"relu\"),\n",
        "    layers.Dense(10, activation=\"softmax\")\n",
        "])\n",
        "model.compile(optimizer=keras.optimizers.RMSprop(1.),\n",
        "              loss=\"sparse_categorical_crossentropy\",\n",
        "              metrics=[\"accuracy\"])\n",
        "model.fit(train_images, train_labels,\n",
        "          epochs=10,\n",
        "          batch_size=128,\n",
        "          validation_split=0.2)"
      ]
    },
    {
      "cell_type": "markdown",
      "metadata": {
        "id": "YqyUnIhowfKK"
      },
      "source": [
        "**The same model with a more appropriate learning rate**"
      ]
    },
    {
      "cell_type": "code",
      "execution_count": 23,
      "metadata": {
        "id": "SvGh_iH3wfKK",
        "outputId": "a42c5d24-36f7-478b-cd8a-855e2cc0146c",
        "colab": {
          "base_uri": "https://localhost:8080/"
        }
      },
      "outputs": [
        {
          "output_type": "stream",
          "name": "stdout",
          "text": [
            "Epoch 1/10\n",
            "375/375 [==============================] - 2s 4ms/step - loss: 0.3438 - accuracy: 0.9105 - val_loss: 0.2032 - val_accuracy: 0.9449\n",
            "Epoch 2/10\n",
            "375/375 [==============================] - 1s 3ms/step - loss: 0.1278 - accuracy: 0.9643 - val_loss: 0.1281 - val_accuracy: 0.9681\n",
            "Epoch 3/10\n",
            "375/375 [==============================] - 1s 3ms/step - loss: 0.0973 - accuracy: 0.9746 - val_loss: 0.1270 - val_accuracy: 0.9715\n",
            "Epoch 4/10\n",
            "375/375 [==============================] - 1s 4ms/step - loss: 0.0821 - accuracy: 0.9785 - val_loss: 0.1586 - val_accuracy: 0.9720\n",
            "Epoch 5/10\n",
            "375/375 [==============================] - 1s 4ms/step - loss: 0.0668 - accuracy: 0.9830 - val_loss: 0.1467 - val_accuracy: 0.9728\n",
            "Epoch 6/10\n",
            "375/375 [==============================] - 1s 3ms/step - loss: 0.0540 - accuracy: 0.9855 - val_loss: 0.1930 - val_accuracy: 0.9688\n",
            "Epoch 7/10\n",
            "375/375 [==============================] - 1s 3ms/step - loss: 0.0501 - accuracy: 0.9877 - val_loss: 0.1862 - val_accuracy: 0.9702\n",
            "Epoch 8/10\n",
            "375/375 [==============================] - 1s 3ms/step - loss: 0.0444 - accuracy: 0.9892 - val_loss: 0.2564 - val_accuracy: 0.9647\n",
            "Epoch 9/10\n",
            "375/375 [==============================] - 1s 3ms/step - loss: 0.0385 - accuracy: 0.9908 - val_loss: 0.2138 - val_accuracy: 0.9739\n",
            "Epoch 10/10\n",
            "375/375 [==============================] - 1s 3ms/step - loss: 0.0349 - accuracy: 0.9917 - val_loss: 0.2344 - val_accuracy: 0.9740\n"
          ]
        },
        {
          "output_type": "execute_result",
          "data": {
            "text/plain": [
              "<keras.callbacks.History at 0x7f4ec1f53820>"
            ]
          },
          "metadata": {},
          "execution_count": 23
        }
      ],
      "source": [
        "model = keras.Sequential([\n",
        "    layers.Dense(512, activation=\"relu\"),\n",
        "    layers.Dense(10, activation=\"softmax\")\n",
        "])\n",
        "model.compile(optimizer=keras.optimizers.RMSprop(1e-2),\n",
        "              loss=\"sparse_categorical_crossentropy\",\n",
        "              metrics=[\"accuracy\"])\n",
        "model.fit(train_images, train_labels,\n",
        "          epochs=10,\n",
        "          batch_size=128,\n",
        "          validation_split=0.2)"
      ]
    },
    {
      "cell_type": "code",
      "source": [],
      "metadata": {
        "id": "XjXlMFbG4jib",
        "outputId": "78b543fe-0ac2-452a-d3e8-2ef20e922aa1",
        "colab": {
          "base_uri": "https://localhost:8080/"
        }
      },
      "execution_count": 32,
      "outputs": [
        {
          "output_type": "stream",
          "name": "stdout",
          "text": [
            "20.085536923187668\n",
            "7.38905609893065\n",
            "2.718281828459045\n",
            "1.0\n",
            "0.36787944117144233\n",
            "0.1353352832366127\n",
            "0.049787068367863944\n",
            "0.01831563888873418\n",
            "0.006737946999085467\n",
            "0.0024787521766663585\n",
            "0.0009118819655545162\n",
            "0.00033546262790251185\n",
            "0.00012340980408667956\n",
            "4.5399929762484854e-05\n",
            "1.670170079024566e-05\n",
            "6.14421235332821e-06\n"
          ]
        }
      ]
    },
    {
      "cell_type": "code",
      "source": [
        "import math\n",
        "histories = []\n",
        "for i in range(-3,3):\n",
        "    alpha = math.exp(-1*i)\n",
        "    model = keras.Sequential([\n",
        "        layers.Dense(512, activation=\"relu\"),\n",
        "        layers.Dense(10, activation=\"softmax\")\n",
        "    ])\n",
        "    model.compile(optimizer=keras.optimizers.RMSprop(alpha),\n",
        "                loss=\"sparse_categorical_crossentropy\",\n",
        "                metrics=[\"accuracy\"])\n",
        "    histories.append(model.fit(train_images, train_labels,\n",
        "            epochs=20,\n",
        "            batch_size=128,\n",
        "            validation_split=0.2)\n",
        "    )"
      ],
      "metadata": {
        "id": "TfVmtyK64b2j",
        "outputId": "0c80b7d9-018f-4407-af4b-e1f418c7a456",
        "colab": {
          "base_uri": "https://localhost:8080/"
        }
      },
      "execution_count": 54,
      "outputs": [
        {
          "output_type": "stream",
          "name": "stdout",
          "text": [
            "Epoch 1/20\n",
            "375/375 [==============================] - 3s 4ms/step - loss: 132297.2188 - accuracy: 0.0997 - val_loss: 22.1943 - val_accuracy: 0.0989\n",
            "Epoch 2/20\n",
            "375/375 [==============================] - 1s 3ms/step - loss: 25.9940 - accuracy: 0.0991 - val_loss: 32.1000 - val_accuracy: 0.0997\n",
            "Epoch 3/20\n",
            "375/375 [==============================] - 1s 3ms/step - loss: 25.1175 - accuracy: 0.0997 - val_loss: 25.7983 - val_accuracy: 0.0968\n",
            "Epoch 4/20\n",
            "375/375 [==============================] - 1s 3ms/step - loss: 24.9954 - accuracy: 0.0984 - val_loss: 14.0229 - val_accuracy: 0.0997\n",
            "Epoch 5/20\n",
            "375/375 [==============================] - 1s 3ms/step - loss: 25.1968 - accuracy: 0.1018 - val_loss: 34.9550 - val_accuracy: 0.0969\n",
            "Epoch 6/20\n",
            "375/375 [==============================] - 1s 3ms/step - loss: 25.1527 - accuracy: 0.0992 - val_loss: 25.9229 - val_accuracy: 0.1026\n",
            "Epoch 7/20\n",
            "375/375 [==============================] - 1s 3ms/step - loss: 24.7175 - accuracy: 0.0995 - val_loss: 18.1969 - val_accuracy: 0.0995\n",
            "Epoch 8/20\n",
            "375/375 [==============================] - 1s 3ms/step - loss: 25.2209 - accuracy: 0.0985 - val_loss: 27.8293 - val_accuracy: 0.0968\n",
            "Epoch 9/20\n",
            "375/375 [==============================] - 1s 3ms/step - loss: 25.1707 - accuracy: 0.1029 - val_loss: 29.0762 - val_accuracy: 0.1026\n",
            "Epoch 10/20\n",
            "375/375 [==============================] - 2s 4ms/step - loss: 24.9099 - accuracy: 0.1014 - val_loss: 17.4776 - val_accuracy: 0.0869\n",
            "Epoch 11/20\n",
            "375/375 [==============================] - 1s 3ms/step - loss: 24.6064 - accuracy: 0.1038 - val_loss: 29.1486 - val_accuracy: 0.0969\n",
            "Epoch 12/20\n",
            "375/375 [==============================] - 1s 3ms/step - loss: 25.3162 - accuracy: 0.1011 - val_loss: 28.3670 - val_accuracy: 0.0995\n",
            "Epoch 13/20\n",
            "375/375 [==============================] - 1s 3ms/step - loss: 25.1597 - accuracy: 0.1010 - val_loss: 31.5682 - val_accuracy: 0.0869\n",
            "Epoch 14/20\n",
            "375/375 [==============================] - 2s 4ms/step - loss: 25.2063 - accuracy: 0.1034 - val_loss: 25.4909 - val_accuracy: 0.1039\n",
            "Epoch 15/20\n",
            "375/375 [==============================] - 1s 4ms/step - loss: 24.7763 - accuracy: 0.0999 - val_loss: 24.0756 - val_accuracy: 0.0995\n",
            "Epoch 16/20\n",
            "375/375 [==============================] - 1s 3ms/step - loss: 24.9646 - accuracy: 0.0983 - val_loss: 22.7961 - val_accuracy: 0.1026\n",
            "Epoch 17/20\n",
            "375/375 [==============================] - 2s 6ms/step - loss: 25.2906 - accuracy: 0.1003 - val_loss: 21.3236 - val_accuracy: 0.0997\n",
            "Epoch 18/20\n",
            "375/375 [==============================] - 3s 7ms/step - loss: 25.1095 - accuracy: 0.1003 - val_loss: 27.0450 - val_accuracy: 0.0968\n",
            "Epoch 19/20\n",
            "375/375 [==============================] - 1s 3ms/step - loss: 24.9059 - accuracy: 0.1004 - val_loss: 32.0496 - val_accuracy: 0.1092\n",
            "Epoch 20/20\n",
            "375/375 [==============================] - 2s 5ms/step - loss: 25.1145 - accuracy: 0.1005 - val_loss: 26.3133 - val_accuracy: 0.0997\n",
            "Epoch 1/20\n",
            "375/375 [==============================] - 2s 4ms/step - loss: 24645.9434 - accuracy: 0.0997 - val_loss: 5.9037 - val_accuracy: 0.0990\n",
            "Epoch 2/20\n",
            "375/375 [==============================] - 1s 3ms/step - loss: 7.7517 - accuracy: 0.1000 - val_loss: 8.9156 - val_accuracy: 0.0969\n",
            "Epoch 3/20\n",
            "375/375 [==============================] - 1s 3ms/step - loss: 7.6678 - accuracy: 0.1000 - val_loss: 5.8113 - val_accuracy: 0.1040\n",
            "Epoch 4/20\n",
            "375/375 [==============================] - 1s 3ms/step - loss: 7.6222 - accuracy: 0.1009 - val_loss: 7.4177 - val_accuracy: 0.1054\n",
            "Epoch 5/20\n",
            "375/375 [==============================] - 1s 3ms/step - loss: 7.6408 - accuracy: 0.1009 - val_loss: 6.5406 - val_accuracy: 0.1054\n",
            "Epoch 6/20\n",
            "375/375 [==============================] - 2s 6ms/step - loss: 7.6908 - accuracy: 0.1021 - val_loss: 9.5250 - val_accuracy: 0.1028\n",
            "Epoch 7/20\n",
            "375/375 [==============================] - 1s 3ms/step - loss: 7.5395 - accuracy: 0.1000 - val_loss: 8.9309 - val_accuracy: 0.0998\n",
            "Epoch 8/20\n",
            "375/375 [==============================] - 1s 4ms/step - loss: 7.6140 - accuracy: 0.0990 - val_loss: 8.2663 - val_accuracy: 0.0998\n",
            "Epoch 9/20\n",
            "375/375 [==============================] - 2s 4ms/step - loss: 7.6660 - accuracy: 0.1018 - val_loss: 6.6968 - val_accuracy: 0.0995\n",
            "Epoch 10/20\n",
            "375/375 [==============================] - 1s 4ms/step - loss: 7.6664 - accuracy: 0.1001 - val_loss: 5.9533 - val_accuracy: 0.0870\n",
            "Epoch 11/20\n",
            "375/375 [==============================] - 2s 5ms/step - loss: 7.7130 - accuracy: 0.0986 - val_loss: 8.7219 - val_accuracy: 0.0969\n",
            "Epoch 12/20\n",
            "375/375 [==============================] - 2s 7ms/step - loss: 7.5758 - accuracy: 0.0985 - val_loss: 10.8031 - val_accuracy: 0.1028\n",
            "Epoch 13/20\n",
            "375/375 [==============================] - 2s 4ms/step - loss: 7.6871 - accuracy: 0.1027 - val_loss: 8.6626 - val_accuracy: 0.0969\n",
            "Epoch 14/20\n",
            "375/375 [==============================] - 2s 4ms/step - loss: 7.6466 - accuracy: 0.1003 - val_loss: 8.5981 - val_accuracy: 0.1028\n",
            "Epoch 15/20\n",
            "375/375 [==============================] - 1s 4ms/step - loss: 7.5467 - accuracy: 0.0985 - val_loss: 10.0643 - val_accuracy: 0.1093\n",
            "Epoch 16/20\n",
            "375/375 [==============================] - 2s 4ms/step - loss: 7.6720 - accuracy: 0.1002 - val_loss: 7.5130 - val_accuracy: 0.0870\n",
            "Epoch 17/20\n",
            "375/375 [==============================] - 1s 3ms/step - loss: 7.5600 - accuracy: 0.1035 - val_loss: 9.5629 - val_accuracy: 0.1093\n",
            "Epoch 18/20\n",
            "375/375 [==============================] - 2s 4ms/step - loss: 7.6767 - accuracy: 0.1007 - val_loss: 8.9713 - val_accuracy: 0.0969\n",
            "Epoch 19/20\n",
            "375/375 [==============================] - 1s 3ms/step - loss: 7.7239 - accuracy: 0.1027 - val_loss: 6.6729 - val_accuracy: 0.1040\n",
            "Epoch 20/20\n",
            "375/375 [==============================] - 1s 3ms/step - loss: 7.5726 - accuracy: 0.1009 - val_loss: 7.1034 - val_accuracy: 0.1093\n",
            "Epoch 1/20\n",
            "375/375 [==============================] - 3s 4ms/step - loss: 4009.9456 - accuracy: 0.1040 - val_loss: 3.6311 - val_accuracy: 0.0998\n",
            "Epoch 2/20\n",
            "375/375 [==============================] - 1s 4ms/step - loss: 3.7782 - accuracy: 0.1003 - val_loss: 3.3075 - val_accuracy: 0.0969\n",
            "Epoch 3/20\n",
            "375/375 [==============================] - 2s 5ms/step - loss: 3.2082 - accuracy: 0.1004 - val_loss: 3.2389 - val_accuracy: 0.0971\n",
            "Epoch 4/20\n",
            "375/375 [==============================] - 2s 4ms/step - loss: 3.1893 - accuracy: 0.1000 - val_loss: 3.9230 - val_accuracy: 0.0868\n",
            "Epoch 5/20\n",
            "375/375 [==============================] - 1s 3ms/step - loss: 3.2116 - accuracy: 0.0985 - val_loss: 2.8889 - val_accuracy: 0.0970\n",
            "Epoch 6/20\n",
            "375/375 [==============================] - 1s 3ms/step - loss: 3.2003 - accuracy: 0.0996 - val_loss: 3.6359 - val_accuracy: 0.0970\n",
            "Epoch 7/20\n",
            "375/375 [==============================] - 2s 4ms/step - loss: 3.1876 - accuracy: 0.1010 - val_loss: 3.9690 - val_accuracy: 0.0870\n",
            "Epoch 8/20\n",
            "375/375 [==============================] - 2s 7ms/step - loss: 3.1963 - accuracy: 0.1004 - val_loss: 3.3893 - val_accuracy: 0.0991\n",
            "Epoch 9/20\n",
            "375/375 [==============================] - 1s 4ms/step - loss: 3.1977 - accuracy: 0.0981 - val_loss: 3.3654 - val_accuracy: 0.1092\n",
            "Epoch 10/20\n",
            "375/375 [==============================] - 1s 3ms/step - loss: 3.1912 - accuracy: 0.1002 - val_loss: 3.9692 - val_accuracy: 0.0868\n",
            "Epoch 11/20\n",
            "375/375 [==============================] - 1s 3ms/step - loss: 3.2100 - accuracy: 0.0992 - val_loss: 3.1635 - val_accuracy: 0.0991\n",
            "Epoch 12/20\n",
            "375/375 [==============================] - 1s 3ms/step - loss: 3.2006 - accuracy: 0.1000 - val_loss: 3.2230 - val_accuracy: 0.1056\n",
            "Epoch 13/20\n",
            "375/375 [==============================] - 1s 3ms/step - loss: 3.1953 - accuracy: 0.1016 - val_loss: 3.2894 - val_accuracy: 0.0998\n",
            "Epoch 14/20\n",
            "375/375 [==============================] - 1s 3ms/step - loss: 3.1996 - accuracy: 0.0980 - val_loss: 3.2051 - val_accuracy: 0.0970\n",
            "Epoch 15/20\n",
            "375/375 [==============================] - 1s 3ms/step - loss: 3.1918 - accuracy: 0.1011 - val_loss: 3.3248 - val_accuracy: 0.1028\n",
            "Epoch 16/20\n",
            "375/375 [==============================] - 1s 3ms/step - loss: 3.1753 - accuracy: 0.0996 - val_loss: 3.5268 - val_accuracy: 0.1093\n",
            "Epoch 17/20\n",
            "375/375 [==============================] - 1s 3ms/step - loss: 3.1943 - accuracy: 0.1018 - val_loss: 3.0586 - val_accuracy: 0.1056\n",
            "Epoch 18/20\n",
            "375/375 [==============================] - 2s 4ms/step - loss: 3.1908 - accuracy: 0.0999 - val_loss: 2.9187 - val_accuracy: 0.1028\n",
            "Epoch 19/20\n",
            "375/375 [==============================] - 1s 4ms/step - loss: 3.1977 - accuracy: 0.0985 - val_loss: 3.6805 - val_accuracy: 0.0991\n",
            "Epoch 20/20\n",
            "375/375 [==============================] - 1s 3ms/step - loss: 3.2039 - accuracy: 0.1027 - val_loss: 3.0814 - val_accuracy: 0.1056\n",
            "Epoch 1/20\n",
            "375/375 [==============================] - 2s 4ms/step - loss: 620.5012 - accuracy: 0.0973 - val_loss: 2.4553 - val_accuracy: 0.1026\n",
            "Epoch 2/20\n",
            "375/375 [==============================] - 1s 3ms/step - loss: 2.6495 - accuracy: 0.1003 - val_loss: 2.5426 - val_accuracy: 0.1026\n",
            "Epoch 3/20\n",
            "375/375 [==============================] - 1s 3ms/step - loss: 2.4528 - accuracy: 0.1040 - val_loss: 2.3683 - val_accuracy: 0.0994\n",
            "Epoch 4/20\n",
            "375/375 [==============================] - 1s 3ms/step - loss: 2.4512 - accuracy: 0.1020 - val_loss: 2.4211 - val_accuracy: 0.1026\n",
            "Epoch 5/20\n",
            "375/375 [==============================] - 1s 4ms/step - loss: 2.4506 - accuracy: 0.1018 - val_loss: 2.5687 - val_accuracy: 0.1027\n",
            "Epoch 6/20\n",
            "375/375 [==============================] - 2s 4ms/step - loss: 2.4510 - accuracy: 0.1014 - val_loss: 2.4237 - val_accuracy: 0.1054\n",
            "Epoch 7/20\n",
            "375/375 [==============================] - 1s 3ms/step - loss: 2.4510 - accuracy: 0.1022 - val_loss: 2.4420 - val_accuracy: 0.1092\n",
            "Epoch 8/20\n",
            "375/375 [==============================] - 1s 4ms/step - loss: 2.4478 - accuracy: 0.1048 - val_loss: 2.4288 - val_accuracy: 0.0997\n",
            "Epoch 9/20\n",
            "375/375 [==============================] - 1s 3ms/step - loss: 2.4486 - accuracy: 0.1012 - val_loss: 2.5119 - val_accuracy: 0.1091\n",
            "Epoch 10/20\n",
            "375/375 [==============================] - 1s 3ms/step - loss: 2.4455 - accuracy: 0.1037 - val_loss: 2.3707 - val_accuracy: 0.1039\n",
            "Epoch 11/20\n",
            "375/375 [==============================] - 1s 3ms/step - loss: 2.4524 - accuracy: 0.1003 - val_loss: 2.4101 - val_accuracy: 0.1039\n",
            "Epoch 12/20\n",
            "375/375 [==============================] - 1s 3ms/step - loss: 2.4509 - accuracy: 0.1037 - val_loss: 2.4749 - val_accuracy: 0.0968\n",
            "Epoch 13/20\n",
            "375/375 [==============================] - 1s 3ms/step - loss: 2.4511 - accuracy: 0.1010 - val_loss: 2.4918 - val_accuracy: 0.0997\n",
            "Epoch 14/20\n",
            "375/375 [==============================] - 1s 3ms/step - loss: 2.4525 - accuracy: 0.0992 - val_loss: 2.4818 - val_accuracy: 0.1039\n",
            "Epoch 15/20\n",
            "375/375 [==============================] - 2s 4ms/step - loss: 2.4520 - accuracy: 0.0989 - val_loss: 2.4327 - val_accuracy: 0.1026\n",
            "Epoch 16/20\n",
            "375/375 [==============================] - 1s 3ms/step - loss: 2.4507 - accuracy: 0.1025 - val_loss: 2.4776 - val_accuracy: 0.1039\n",
            "Epoch 17/20\n",
            "375/375 [==============================] - 1s 3ms/step - loss: 2.4517 - accuracy: 0.0992 - val_loss: 2.5569 - val_accuracy: 0.1026\n",
            "Epoch 18/20\n",
            "375/375 [==============================] - 1s 3ms/step - loss: 2.4484 - accuracy: 0.1017 - val_loss: 2.5717 - val_accuracy: 0.0969\n",
            "Epoch 19/20\n",
            "375/375 [==============================] - 1s 3ms/step - loss: 2.4518 - accuracy: 0.0982 - val_loss: 2.4623 - val_accuracy: 0.1026\n",
            "Epoch 20/20\n",
            "375/375 [==============================] - 1s 3ms/step - loss: 2.4496 - accuracy: 0.1022 - val_loss: 2.4271 - val_accuracy: 0.0869\n",
            "Epoch 1/20\n",
            "375/375 [==============================] - 2s 4ms/step - loss: 48.9700 - accuracy: 0.0989 - val_loss: 2.3902 - val_accuracy: 0.1027\n",
            "Epoch 2/20\n",
            "375/375 [==============================] - 1s 3ms/step - loss: 2.3343 - accuracy: 0.1014 - val_loss: 2.3320 - val_accuracy: 0.1092\n",
            "Epoch 3/20\n",
            "375/375 [==============================] - 1s 3ms/step - loss: 2.3344 - accuracy: 0.1014 - val_loss: 2.3132 - val_accuracy: 0.1053\n",
            "Epoch 4/20\n",
            "375/375 [==============================] - 2s 4ms/step - loss: 2.3350 - accuracy: 0.1018 - val_loss: 2.3311 - val_accuracy: 0.0997\n",
            "Epoch 5/20\n",
            "375/375 [==============================] - 1s 4ms/step - loss: 2.3332 - accuracy: 0.1027 - val_loss: 2.3232 - val_accuracy: 0.1039\n",
            "Epoch 6/20\n",
            "375/375 [==============================] - 1s 3ms/step - loss: 2.3332 - accuracy: 0.1033 - val_loss: 2.3326 - val_accuracy: 0.1053\n",
            "Epoch 7/20\n",
            "375/375 [==============================] - 1s 3ms/step - loss: 2.3363 - accuracy: 0.0989 - val_loss: 2.3168 - val_accuracy: 0.0997\n",
            "Epoch 8/20\n",
            "375/375 [==============================] - 1s 3ms/step - loss: 2.3340 - accuracy: 0.1029 - val_loss: 2.3275 - val_accuracy: 0.1039\n",
            "Epoch 9/20\n",
            "375/375 [==============================] - 1s 3ms/step - loss: 2.3355 - accuracy: 0.0994 - val_loss: 2.3283 - val_accuracy: 0.0968\n",
            "Epoch 10/20\n",
            "375/375 [==============================] - 1s 3ms/step - loss: 2.3343 - accuracy: 0.1017 - val_loss: 2.3224 - val_accuracy: 0.0994\n",
            "Epoch 11/20\n",
            "375/375 [==============================] - 1s 3ms/step - loss: 2.3324 - accuracy: 0.1022 - val_loss: 2.3201 - val_accuracy: 0.1053\n",
            "Epoch 12/20\n",
            "375/375 [==============================] - 1s 3ms/step - loss: 2.3352 - accuracy: 0.1032 - val_loss: 2.3316 - val_accuracy: 0.0968\n",
            "Epoch 13/20\n",
            "375/375 [==============================] - 1s 4ms/step - loss: 2.3346 - accuracy: 0.1012 - val_loss: 2.3277 - val_accuracy: 0.0995\n",
            "Epoch 14/20\n",
            "375/375 [==============================] - 1s 4ms/step - loss: 2.3354 - accuracy: 0.0994 - val_loss: 2.3343 - val_accuracy: 0.0989\n",
            "Epoch 15/20\n",
            "375/375 [==============================] - 1s 3ms/step - loss: 2.3329 - accuracy: 0.1020 - val_loss: 2.3522 - val_accuracy: 0.0989\n",
            "Epoch 16/20\n",
            "375/375 [==============================] - 1s 3ms/step - loss: 2.3346 - accuracy: 0.1028 - val_loss: 2.3348 - val_accuracy: 0.1053\n",
            "Epoch 17/20\n",
            "375/375 [==============================] - 1s 3ms/step - loss: 2.3352 - accuracy: 0.1011 - val_loss: 2.3453 - val_accuracy: 0.1039\n",
            "Epoch 18/20\n",
            "375/375 [==============================] - 1s 3ms/step - loss: 2.3350 - accuracy: 0.1025 - val_loss: 2.3235 - val_accuracy: 0.0869\n",
            "Epoch 19/20\n",
            "375/375 [==============================] - 1s 3ms/step - loss: 2.3347 - accuracy: 0.1006 - val_loss: 2.3326 - val_accuracy: 0.0968\n",
            "Epoch 20/20\n",
            "375/375 [==============================] - 1s 3ms/step - loss: 2.3343 - accuracy: 0.1015 - val_loss: 2.3732 - val_accuracy: 0.0995\n",
            "Epoch 1/20\n",
            "375/375 [==============================] - 2s 4ms/step - loss: 12.7643 - accuracy: 0.1015 - val_loss: 2.3052 - val_accuracy: 0.1054\n",
            "Epoch 2/20\n",
            "375/375 [==============================] - 2s 4ms/step - loss: 2.3142 - accuracy: 0.1021 - val_loss: 2.3122 - val_accuracy: 0.1039\n",
            "Epoch 3/20\n",
            "375/375 [==============================] - 1s 4ms/step - loss: 2.3111 - accuracy: 0.1025 - val_loss: 2.3056 - val_accuracy: 0.0969\n",
            "Epoch 4/20\n",
            "375/375 [==============================] - 1s 3ms/step - loss: 2.3111 - accuracy: 0.1052 - val_loss: 2.3087 - val_accuracy: 0.1054\n",
            "Epoch 5/20\n",
            "375/375 [==============================] - 1s 3ms/step - loss: 2.3115 - accuracy: 0.1028 - val_loss: 2.3150 - val_accuracy: 0.1092\n",
            "Epoch 6/20\n",
            "375/375 [==============================] - 1s 3ms/step - loss: 2.3115 - accuracy: 0.1025 - val_loss: 2.3042 - val_accuracy: 0.0997\n",
            "Epoch 7/20\n",
            "375/375 [==============================] - 1s 3ms/step - loss: 2.3109 - accuracy: 0.1043 - val_loss: 2.3126 - val_accuracy: 0.1092\n",
            "Epoch 8/20\n",
            "375/375 [==============================] - 1s 3ms/step - loss: 2.3116 - accuracy: 0.1032 - val_loss: 2.3074 - val_accuracy: 0.1054\n",
            "Epoch 9/20\n",
            "375/375 [==============================] - 1s 3ms/step - loss: 2.3107 - accuracy: 0.1036 - val_loss: 2.3062 - val_accuracy: 0.0989\n",
            "Epoch 10/20\n",
            "375/375 [==============================] - 1s 3ms/step - loss: 2.3104 - accuracy: 0.1022 - val_loss: 2.3066 - val_accuracy: 0.1092\n",
            "Epoch 11/20\n",
            "375/375 [==============================] - 1s 4ms/step - loss: 2.3109 - accuracy: 0.1046 - val_loss: 2.3073 - val_accuracy: 0.1027\n",
            "Epoch 12/20\n",
            "375/375 [==============================] - 1s 4ms/step - loss: 2.3110 - accuracy: 0.1025 - val_loss: 2.3113 - val_accuracy: 0.0967\n",
            "Epoch 13/20\n",
            "375/375 [==============================] - 1s 4ms/step - loss: 2.3108 - accuracy: 0.1042 - val_loss: 2.3084 - val_accuracy: 0.1092\n",
            "Epoch 14/20\n",
            "375/375 [==============================] - 1s 3ms/step - loss: 2.3109 - accuracy: 0.1014 - val_loss: 2.3193 - val_accuracy: 0.0967\n",
            "Epoch 15/20\n",
            "375/375 [==============================] - 1s 3ms/step - loss: 2.3105 - accuracy: 0.1024 - val_loss: 2.3108 - val_accuracy: 0.1039\n",
            "Epoch 16/20\n",
            "375/375 [==============================] - 1s 3ms/step - loss: 2.3116 - accuracy: 0.1025 - val_loss: 2.3071 - val_accuracy: 0.0989\n",
            "Epoch 17/20\n",
            "375/375 [==============================] - 1s 3ms/step - loss: 2.3102 - accuracy: 0.1030 - val_loss: 2.3064 - val_accuracy: 0.1092\n",
            "Epoch 18/20\n",
            "375/375 [==============================] - 1s 3ms/step - loss: 2.3109 - accuracy: 0.1030 - val_loss: 2.3123 - val_accuracy: 0.1039\n",
            "Epoch 19/20\n",
            "375/375 [==============================] - 1s 3ms/step - loss: 2.3109 - accuracy: 0.1042 - val_loss: 2.3084 - val_accuracy: 0.1027\n",
            "Epoch 20/20\n",
            "375/375 [==============================] - 1s 3ms/step - loss: 2.3109 - accuracy: 0.1027 - val_loss: 2.3217 - val_accuracy: 0.0869\n"
          ]
        }
      ]
    },
    {
      "cell_type": "code",
      "source": [
        "import matplotlib.pyplot as plt\n",
        "for i in range(len(range(-3,3))):\n",
        "    alpha = math.exp(-1*i)\n",
        "    val_acc = histories[i].history[\"accuracy\"]\n",
        "    epochs = range(1, 21)\n",
        "    plt.plot(epochs, val_acc,\n",
        "            label=f\"Validation_accuracy_lr_{alpha}\")\n",
        "plt.title(\"Train Vs Validation\")\n",
        "plt.xlabel(\"Epochs\")\n",
        "plt.ylabel(\"Accuracy\")\n",
        "plt.legend()\n"
      ],
      "metadata": {
        "id": "Exyx7Wi27Zdt",
        "outputId": "256b28fe-086b-4149-b5e6-1837e45290d6",
        "colab": {
          "base_uri": "https://localhost:8080/",
          "height": 807
        }
      },
      "execution_count": 55,
      "outputs": [
        {
          "output_type": "error",
          "ename": "ValueError",
          "evalue": "ignored",
          "traceback": [
            "\u001b[0;31m---------------------------------------------------------------------------\u001b[0m",
            "\u001b[0;31mValueError\u001b[0m                                Traceback (most recent call last)",
            "\u001b[0;32m<ipython-input-55-a2631da8a164>\u001b[0m in \u001b[0;36m<cell line: 2>\u001b[0;34m()\u001b[0m\n\u001b[1;32m      4\u001b[0m     \u001b[0mval_acc\u001b[0m \u001b[0;34m=\u001b[0m \u001b[0mhistories\u001b[0m\u001b[0;34m[\u001b[0m\u001b[0mi\u001b[0m\u001b[0;34m]\u001b[0m\u001b[0;34m.\u001b[0m\u001b[0mhistory\u001b[0m\u001b[0;34m[\u001b[0m\u001b[0;34m\"accuracy\"\u001b[0m\u001b[0;34m]\u001b[0m\u001b[0;34m\u001b[0m\u001b[0;34m\u001b[0m\u001b[0m\n\u001b[1;32m      5\u001b[0m     \u001b[0mepochs\u001b[0m \u001b[0;34m=\u001b[0m \u001b[0mrange\u001b[0m\u001b[0;34m(\u001b[0m\u001b[0;36m1\u001b[0m\u001b[0;34m,\u001b[0m \u001b[0;36m11\u001b[0m\u001b[0;34m)\u001b[0m\u001b[0;34m\u001b[0m\u001b[0;34m\u001b[0m\u001b[0m\n\u001b[0;32m----> 6\u001b[0;31m     plt.plot(epochs, val_acc,\n\u001b[0m\u001b[1;32m      7\u001b[0m             label=f\"Validation_accuracy_lr_{alpha}\")\n\u001b[1;32m      8\u001b[0m \u001b[0mplt\u001b[0m\u001b[0;34m.\u001b[0m\u001b[0mtitle\u001b[0m\u001b[0;34m(\u001b[0m\u001b[0;34m\"Train Vs Validation\"\u001b[0m\u001b[0;34m)\u001b[0m\u001b[0;34m\u001b[0m\u001b[0;34m\u001b[0m\u001b[0m\n",
            "\u001b[0;32m/usr/local/lib/python3.9/dist-packages/matplotlib/pyplot.py\u001b[0m in \u001b[0;36mplot\u001b[0;34m(scalex, scaley, data, *args, **kwargs)\u001b[0m\n\u001b[1;32m   2810\u001b[0m \u001b[0;34m@\u001b[0m\u001b[0m_copy_docstring_and_deprecators\u001b[0m\u001b[0;34m(\u001b[0m\u001b[0mAxes\u001b[0m\u001b[0;34m.\u001b[0m\u001b[0mplot\u001b[0m\u001b[0;34m)\u001b[0m\u001b[0;34m\u001b[0m\u001b[0;34m\u001b[0m\u001b[0m\n\u001b[1;32m   2811\u001b[0m \u001b[0;32mdef\u001b[0m \u001b[0mplot\u001b[0m\u001b[0;34m(\u001b[0m\u001b[0;34m*\u001b[0m\u001b[0margs\u001b[0m\u001b[0;34m,\u001b[0m \u001b[0mscalex\u001b[0m\u001b[0;34m=\u001b[0m\u001b[0;32mTrue\u001b[0m\u001b[0;34m,\u001b[0m \u001b[0mscaley\u001b[0m\u001b[0;34m=\u001b[0m\u001b[0;32mTrue\u001b[0m\u001b[0;34m,\u001b[0m \u001b[0mdata\u001b[0m\u001b[0;34m=\u001b[0m\u001b[0;32mNone\u001b[0m\u001b[0;34m,\u001b[0m \u001b[0;34m**\u001b[0m\u001b[0mkwargs\u001b[0m\u001b[0;34m)\u001b[0m\u001b[0;34m:\u001b[0m\u001b[0;34m\u001b[0m\u001b[0;34m\u001b[0m\u001b[0m\n\u001b[0;32m-> 2812\u001b[0;31m     return gca().plot(\n\u001b[0m\u001b[1;32m   2813\u001b[0m         \u001b[0;34m*\u001b[0m\u001b[0margs\u001b[0m\u001b[0;34m,\u001b[0m \u001b[0mscalex\u001b[0m\u001b[0;34m=\u001b[0m\u001b[0mscalex\u001b[0m\u001b[0;34m,\u001b[0m \u001b[0mscaley\u001b[0m\u001b[0;34m=\u001b[0m\u001b[0mscaley\u001b[0m\u001b[0;34m,\u001b[0m\u001b[0;34m\u001b[0m\u001b[0;34m\u001b[0m\u001b[0m\n\u001b[1;32m   2814\u001b[0m         **({\"data\": data} if data is not None else {}), **kwargs)\n",
            "\u001b[0;32m/usr/local/lib/python3.9/dist-packages/matplotlib/axes/_axes.py\u001b[0m in \u001b[0;36mplot\u001b[0;34m(self, scalex, scaley, data, *args, **kwargs)\u001b[0m\n\u001b[1;32m   1686\u001b[0m         \"\"\"\n\u001b[1;32m   1687\u001b[0m         \u001b[0mkwargs\u001b[0m \u001b[0;34m=\u001b[0m \u001b[0mcbook\u001b[0m\u001b[0;34m.\u001b[0m\u001b[0mnormalize_kwargs\u001b[0m\u001b[0;34m(\u001b[0m\u001b[0mkwargs\u001b[0m\u001b[0;34m,\u001b[0m \u001b[0mmlines\u001b[0m\u001b[0;34m.\u001b[0m\u001b[0mLine2D\u001b[0m\u001b[0;34m)\u001b[0m\u001b[0;34m\u001b[0m\u001b[0;34m\u001b[0m\u001b[0m\n\u001b[0;32m-> 1688\u001b[0;31m         \u001b[0mlines\u001b[0m \u001b[0;34m=\u001b[0m \u001b[0;34m[\u001b[0m\u001b[0;34m*\u001b[0m\u001b[0mself\u001b[0m\u001b[0;34m.\u001b[0m\u001b[0m_get_lines\u001b[0m\u001b[0;34m(\u001b[0m\u001b[0;34m*\u001b[0m\u001b[0margs\u001b[0m\u001b[0;34m,\u001b[0m \u001b[0mdata\u001b[0m\u001b[0;34m=\u001b[0m\u001b[0mdata\u001b[0m\u001b[0;34m,\u001b[0m \u001b[0;34m**\u001b[0m\u001b[0mkwargs\u001b[0m\u001b[0;34m)\u001b[0m\u001b[0;34m]\u001b[0m\u001b[0;34m\u001b[0m\u001b[0;34m\u001b[0m\u001b[0m\n\u001b[0m\u001b[1;32m   1689\u001b[0m         \u001b[0;32mfor\u001b[0m \u001b[0mline\u001b[0m \u001b[0;32min\u001b[0m \u001b[0mlines\u001b[0m\u001b[0;34m:\u001b[0m\u001b[0;34m\u001b[0m\u001b[0;34m\u001b[0m\u001b[0m\n\u001b[1;32m   1690\u001b[0m             \u001b[0mself\u001b[0m\u001b[0;34m.\u001b[0m\u001b[0madd_line\u001b[0m\u001b[0;34m(\u001b[0m\u001b[0mline\u001b[0m\u001b[0;34m)\u001b[0m\u001b[0;34m\u001b[0m\u001b[0;34m\u001b[0m\u001b[0m\n",
            "\u001b[0;32m/usr/local/lib/python3.9/dist-packages/matplotlib/axes/_base.py\u001b[0m in \u001b[0;36m__call__\u001b[0;34m(self, data, *args, **kwargs)\u001b[0m\n\u001b[1;32m    309\u001b[0m                 \u001b[0mthis\u001b[0m \u001b[0;34m+=\u001b[0m \u001b[0margs\u001b[0m\u001b[0;34m[\u001b[0m\u001b[0;36m0\u001b[0m\u001b[0;34m]\u001b[0m\u001b[0;34m,\u001b[0m\u001b[0;34m\u001b[0m\u001b[0;34m\u001b[0m\u001b[0m\n\u001b[1;32m    310\u001b[0m                 \u001b[0margs\u001b[0m \u001b[0;34m=\u001b[0m \u001b[0margs\u001b[0m\u001b[0;34m[\u001b[0m\u001b[0;36m1\u001b[0m\u001b[0;34m:\u001b[0m\u001b[0;34m]\u001b[0m\u001b[0;34m\u001b[0m\u001b[0;34m\u001b[0m\u001b[0m\n\u001b[0;32m--> 311\u001b[0;31m             yield from self._plot_args(\n\u001b[0m\u001b[1;32m    312\u001b[0m                 this, kwargs, ambiguous_fmt_datakey=ambiguous_fmt_datakey)\n\u001b[1;32m    313\u001b[0m \u001b[0;34m\u001b[0m\u001b[0m\n",
            "\u001b[0;32m/usr/local/lib/python3.9/dist-packages/matplotlib/axes/_base.py\u001b[0m in \u001b[0;36m_plot_args\u001b[0;34m(self, tup, kwargs, return_kwargs, ambiguous_fmt_datakey)\u001b[0m\n\u001b[1;32m    502\u001b[0m \u001b[0;34m\u001b[0m\u001b[0m\n\u001b[1;32m    503\u001b[0m         \u001b[0;32mif\u001b[0m \u001b[0mx\u001b[0m\u001b[0;34m.\u001b[0m\u001b[0mshape\u001b[0m\u001b[0;34m[\u001b[0m\u001b[0;36m0\u001b[0m\u001b[0;34m]\u001b[0m \u001b[0;34m!=\u001b[0m \u001b[0my\u001b[0m\u001b[0;34m.\u001b[0m\u001b[0mshape\u001b[0m\u001b[0;34m[\u001b[0m\u001b[0;36m0\u001b[0m\u001b[0;34m]\u001b[0m\u001b[0;34m:\u001b[0m\u001b[0;34m\u001b[0m\u001b[0;34m\u001b[0m\u001b[0m\n\u001b[0;32m--> 504\u001b[0;31m             raise ValueError(f\"x and y must have same first dimension, but \"\n\u001b[0m\u001b[1;32m    505\u001b[0m                              f\"have shapes {x.shape} and {y.shape}\")\n\u001b[1;32m    506\u001b[0m         \u001b[0;32mif\u001b[0m \u001b[0mx\u001b[0m\u001b[0;34m.\u001b[0m\u001b[0mndim\u001b[0m \u001b[0;34m>\u001b[0m \u001b[0;36m2\u001b[0m \u001b[0;32mor\u001b[0m \u001b[0my\u001b[0m\u001b[0;34m.\u001b[0m\u001b[0mndim\u001b[0m \u001b[0;34m>\u001b[0m \u001b[0;36m2\u001b[0m\u001b[0;34m:\u001b[0m\u001b[0;34m\u001b[0m\u001b[0;34m\u001b[0m\u001b[0m\n",
            "\u001b[0;31mValueError\u001b[0m: x and y must have same first dimension, but have shapes (10,) and (20,)"
          ]
        },
        {
          "output_type": "display_data",
          "data": {
            "text/plain": [
              "<Figure size 640x480 with 1 Axes>"
            ],
            "image/png": "[encoded data removed]"
          },
          "metadata": {}
        }
      ]
    },
    {
      "cell_type": "markdown",
      "metadata": {
        "id": "2GhOsiAGwfKL"
      },
      "source": [
        "### Leveraging better architecture priors"
      ]
    },
    {
      "cell_type": "markdown",
      "metadata": {
        "id": "VQONW-i7wfKL"
      },
      "source": [
        "### Increasing model capacity"
      ]
    },
    {
      "cell_type": "markdown",
      "metadata": {
        "id": "CtsCeVbAwfKL"
      },
      "source": [
        "**A simple logistic regression on MNIST**"
      ]
    },
    {
      "cell_type": "code",
      "execution_count": 17,
      "metadata": {
        "id": "QpgNE3HFwfKL",
        "outputId": "b4aee667-cf22-4502-b337-58636173f7e7",
        "colab": {
          "base_uri": "https://localhost:8080/"
        }
      },
      "outputs": [
        {
          "output_type": "stream",
          "name": "stdout",
          "text": [
            "Epoch 1/20\n",
            "375/375 [==============================] - 2s 3ms/step - loss: 0.6667 - accuracy: 0.8360 - val_loss: 0.3576 - val_accuracy: 0.9032\n",
            "Epoch 2/20\n",
            "375/375 [==============================] - 1s 3ms/step - loss: 0.3523 - accuracy: 0.9038 - val_loss: 0.3081 - val_accuracy: 0.9147\n",
            "Epoch 3/20\n",
            "375/375 [==============================] - 1s 4ms/step - loss: 0.3169 - accuracy: 0.9118 - val_loss: 0.2934 - val_accuracy: 0.9188\n",
            "Epoch 4/20\n",
            "375/375 [==============================] - 1s 3ms/step - loss: 0.3013 - accuracy: 0.9165 - val_loss: 0.2834 - val_accuracy: 0.9209\n",
            "Epoch 5/20\n",
            "375/375 [==============================] - 1s 3ms/step - loss: 0.2916 - accuracy: 0.9187 - val_loss: 0.2780 - val_accuracy: 0.9221\n",
            "Epoch 6/20\n",
            "375/375 [==============================] - 1s 3ms/step - loss: 0.2851 - accuracy: 0.9202 - val_loss: 0.2732 - val_accuracy: 0.9251\n",
            "Epoch 7/20\n",
            "375/375 [==============================] - 1s 3ms/step - loss: 0.2803 - accuracy: 0.9221 - val_loss: 0.2720 - val_accuracy: 0.9251\n",
            "Epoch 8/20\n",
            "375/375 [==============================] - 1s 3ms/step - loss: 0.2762 - accuracy: 0.9231 - val_loss: 0.2703 - val_accuracy: 0.9253\n",
            "Epoch 9/20\n",
            "375/375 [==============================] - 1s 3ms/step - loss: 0.2732 - accuracy: 0.9249 - val_loss: 0.2692 - val_accuracy: 0.9271\n",
            "Epoch 10/20\n",
            "375/375 [==============================] - 1s 3ms/step - loss: 0.2706 - accuracy: 0.9254 - val_loss: 0.2668 - val_accuracy: 0.9271\n",
            "Epoch 11/20\n",
            "375/375 [==============================] - 1s 3ms/step - loss: 0.2682 - accuracy: 0.9261 - val_loss: 0.2654 - val_accuracy: 0.9287\n",
            "Epoch 12/20\n",
            "375/375 [==============================] - 2s 5ms/step - loss: 0.2663 - accuracy: 0.9261 - val_loss: 0.2653 - val_accuracy: 0.9284\n",
            "Epoch 13/20\n",
            "375/375 [==============================] - 1s 4ms/step - loss: 0.2647 - accuracy: 0.9272 - val_loss: 0.2663 - val_accuracy: 0.9287\n",
            "Epoch 14/20\n",
            "375/375 [==============================] - 1s 3ms/step - loss: 0.2630 - accuracy: 0.9277 - val_loss: 0.2654 - val_accuracy: 0.9276\n",
            "Epoch 15/20\n",
            "375/375 [==============================] - 1s 3ms/step - loss: 0.2618 - accuracy: 0.9281 - val_loss: 0.2632 - val_accuracy: 0.9302\n",
            "Epoch 16/20\n",
            "375/375 [==============================] - 1s 3ms/step - loss: 0.2603 - accuracy: 0.9277 - val_loss: 0.2641 - val_accuracy: 0.9298\n",
            "Epoch 17/20\n",
            "375/375 [==============================] - 1s 3ms/step - loss: 0.2593 - accuracy: 0.9292 - val_loss: 0.2628 - val_accuracy: 0.9299\n",
            "Epoch 18/20\n",
            "375/375 [==============================] - 1s 3ms/step - loss: 0.2581 - accuracy: 0.9290 - val_loss: 0.2631 - val_accuracy: 0.9292\n",
            "Epoch 19/20\n",
            "375/375 [==============================] - 1s 3ms/step - loss: 0.2573 - accuracy: 0.9290 - val_loss: 0.2634 - val_accuracy: 0.9286\n",
            "Epoch 20/20\n",
            "375/375 [==============================] - 1s 3ms/step - loss: 0.2562 - accuracy: 0.9296 - val_loss: 0.2616 - val_accuracy: 0.9299\n"
          ]
        }
      ],
      "source": [
        "model = keras.Sequential([layers.Dense(10, activation=\"softmax\")])\n",
        "model.compile(optimizer=\"rmsprop\",\n",
        "              loss=\"sparse_categorical_crossentropy\",\n",
        "              metrics=[\"accuracy\"])\n",
        "history_small_model = model.fit(\n",
        "    train_images, train_labels,\n",
        "    epochs=20,\n",
        "    batch_size=128,\n",
        "    validation_split=0.2)"
      ]
    },
    {
      "cell_type": "code",
      "execution_count": 18,
      "metadata": {
        "id": "6SRT8w2-wfKL",
        "outputId": "da24d345-aee2-4614-cfdc-ec04018e9afb",
        "colab": {
          "base_uri": "https://localhost:8080/",
          "height": 490
        }
      },
      "outputs": [
        {
          "output_type": "execute_result",
          "data": {
            "text/plain": [
              "<matplotlib.legend.Legend at 0x7f4eb74d7670>"
            ]
          },
          "metadata": {},
          "execution_count": 18
        },
        {
          "output_type": "display_data",
          "data": {
            "text/plain": [
              "<Figure size 640x480 with 1 Axes>"
            ],
            "image/png": "[encoded data removed]"
          },
          "metadata": {}
        }
      ],
      "source": [
        "import matplotlib.pyplot as plt\n",
        "val_loss = history_small_model.history[\"val_loss\"]\n",
        "epochs = range(1, 21)\n",
        "plt.plot(epochs, val_loss, \"b--\",\n",
        "         label=\"Validation loss\")\n",
        "plt.title(\"Effect of insufficient model capacity on validation loss\")\n",
        "plt.xlabel(\"Epochs\")\n",
        "plt.ylabel(\"Loss\")\n",
        "plt.legend()"
      ]
    },
    {
      "cell_type": "code",
      "execution_count": 19,
      "metadata": {
        "id": "1QcQReblwfKL",
        "outputId": "6bf3c21a-144e-495d-8de8-4cc2963831bf",
        "colab": {
          "base_uri": "https://localhost:8080/"
        }
      },
      "outputs": [
        {
          "output_type": "stream",
          "name": "stdout",
          "text": [
            "Epoch 1/20\n",
            "375/375 [==============================] - 2s 4ms/step - loss: 0.3647 - accuracy: 0.8958 - val_loss: 0.1874 - val_accuracy: 0.9487\n",
            "Epoch 2/20\n",
            "375/375 [==============================] - 2s 5ms/step - loss: 0.1615 - accuracy: 0.9520 - val_loss: 0.1375 - val_accuracy: 0.9602\n",
            "Epoch 3/20\n",
            "375/375 [==============================] - 2s 4ms/step - loss: 0.1129 - accuracy: 0.9666 - val_loss: 0.1172 - val_accuracy: 0.9657\n",
            "Epoch 4/20\n",
            "375/375 [==============================] - 1s 3ms/step - loss: 0.0874 - accuracy: 0.9735 - val_loss: 0.1054 - val_accuracy: 0.9674\n",
            "Epoch 5/20\n",
            "375/375 [==============================] - 1s 3ms/step - loss: 0.0697 - accuracy: 0.9792 - val_loss: 0.0950 - val_accuracy: 0.9728\n",
            "Epoch 6/20\n",
            "375/375 [==============================] - 1s 4ms/step - loss: 0.0571 - accuracy: 0.9829 - val_loss: 0.0943 - val_accuracy: 0.9719\n",
            "Epoch 7/20\n",
            "375/375 [==============================] - 1s 3ms/step - loss: 0.0476 - accuracy: 0.9855 - val_loss: 0.1019 - val_accuracy: 0.9715\n",
            "Epoch 8/20\n",
            "375/375 [==============================] - 1s 3ms/step - loss: 0.0401 - accuracy: 0.9876 - val_loss: 0.0864 - val_accuracy: 0.9762\n",
            "Epoch 9/20\n",
            "375/375 [==============================] - 1s 3ms/step - loss: 0.0342 - accuracy: 0.9897 - val_loss: 0.0879 - val_accuracy: 0.9760\n",
            "Epoch 10/20\n",
            "375/375 [==============================] - 1s 3ms/step - loss: 0.0285 - accuracy: 0.9914 - val_loss: 0.0981 - val_accuracy: 0.9742\n",
            "Epoch 11/20\n",
            "375/375 [==============================] - 2s 4ms/step - loss: 0.0235 - accuracy: 0.9927 - val_loss: 0.0999 - val_accuracy: 0.9748\n",
            "Epoch 12/20\n",
            "375/375 [==============================] - 1s 4ms/step - loss: 0.0203 - accuracy: 0.9938 - val_loss: 0.0968 - val_accuracy: 0.9754\n",
            "Epoch 13/20\n",
            "375/375 [==============================] - 1s 3ms/step - loss: 0.0170 - accuracy: 0.9945 - val_loss: 0.0987 - val_accuracy: 0.9766\n",
            "Epoch 14/20\n",
            "375/375 [==============================] - 1s 3ms/step - loss: 0.0140 - accuracy: 0.9959 - val_loss: 0.1140 - val_accuracy: 0.9745\n",
            "Epoch 15/20\n",
            "375/375 [==============================] - 1s 3ms/step - loss: 0.0124 - accuracy: 0.9962 - val_loss: 0.1159 - val_accuracy: 0.9768\n",
            "Epoch 16/20\n",
            "375/375 [==============================] - 1s 3ms/step - loss: 0.0100 - accuracy: 0.9971 - val_loss: 0.1106 - val_accuracy: 0.9758\n",
            "Epoch 17/20\n",
            "375/375 [==============================] - 1s 3ms/step - loss: 0.0093 - accuracy: 0.9968 - val_loss: 0.1132 - val_accuracy: 0.9763\n",
            "Epoch 18/20\n",
            "375/375 [==============================] - 1s 3ms/step - loss: 0.0079 - accuracy: 0.9975 - val_loss: 0.1188 - val_accuracy: 0.9764\n",
            "Epoch 19/20\n",
            "375/375 [==============================] - 1s 3ms/step - loss: 0.0068 - accuracy: 0.9979 - val_loss: 0.1226 - val_accuracy: 0.9767\n",
            "Epoch 20/20\n",
            "375/375 [==============================] - 1s 4ms/step - loss: 0.0055 - accuracy: 0.9983 - val_loss: 0.1261 - val_accuracy: 0.9772\n"
          ]
        }
      ],
      "source": [
        "model = keras.Sequential([\n",
        "    layers.Dense(96, activation=\"relu\"),\n",
        "    layers.Dense(96, activation=\"relu\"),\n",
        "    layers.Dense(10, activation=\"softmax\"),\n",
        "])\n",
        "model.compile(optimizer=\"rmsprop\",\n",
        "              loss=\"sparse_categorical_crossentropy\",\n",
        "              metrics=[\"accuracy\"])\n",
        "history_large_model = model.fit(\n",
        "    train_images, train_labels,\n",
        "    epochs=20,\n",
        "    batch_size=128,\n",
        "    validation_split=0.2)"
      ]
    },
    {
      "cell_type": "code",
      "source": [
        "import matplotlib.pyplot as plt\n",
        "val_acc_train = history_train.history[\"val_accuracy\"]\n",
        "val_acc_noise = history_noise.history[\"val_accuracy\"]\n",
        "val_acc_zeros = history_zeros.history[\"val_accuracy\"]\n",
        "epochs = range(1, 11)\n",
        "plt.plot(epochs, val_acc_train, \"b-\",\n",
        "         label=\"Validation accuracy with train channels\")\n",
        "plt.plot(epochs, val_acc_noise, \"b-\",\n",
        "         label=\"Validation accuracy with noise channels\")\n",
        "plt.plot(epochs, val_acc_zeros, \"b--\",\n",
        "         label=\"Validation accuracy with zeros channels\")\n",
        "plt.title(\"Effect of noise channels on validation accuracy\")\n",
        "plt.xlabel(\"Epochs\")\n",
        "plt.ylabel(\"Accuracy\")\n",
        "plt.legend()"
      ],
      "metadata": {
        "id": "sLSuh6WE5_J5"
      },
      "execution_count": null,
      "outputs": []
    },
    {
      "cell_type": "markdown",
      "metadata": {
        "id": "3mDdbJMpwfKL"
      },
      "source": [
        "## Improving generalization"
      ]
    },
    {
      "cell_type": "markdown",
      "metadata": {
        "id": "HgcBk3sjwfKL"
      },
      "source": [
        "### Dataset curation"
      ]
    },
    {
      "cell_type": "markdown",
      "metadata": {
        "id": "YySjf5VcwfKL"
      },
      "source": [
        "### Feature engineering"
      ]
    },
    {
      "cell_type": "markdown",
      "metadata": {
        "id": "5Lpz33XzwfKM"
      },
      "source": [
        "### Using early stopping"
      ]
    },
    {
      "cell_type": "markdown",
      "metadata": {
        "id": "pVxXLoEnwfKM"
      },
      "source": [
        "### Regularizing your model"
      ]
    },
    {
      "cell_type": "markdown",
      "metadata": {
        "id": "h3uLYaoOwfKM"
      },
      "source": [
        "#### Reducing the network's size"
      ]
    },
    {
      "cell_type": "markdown",
      "metadata": {
        "id": "jWAhv2flwfKM"
      },
      "source": [
        "**Original model**"
      ]
    },
    {
      "cell_type": "code",
      "execution_count": 56,
      "metadata": {
        "id": "dTGM8QXRwfKM",
        "outputId": "36f55b6e-e605-496c-d1cc-d5fe6b2cbaca",
        "colab": {
          "base_uri": "https://localhost:8080/"
        }
      },
      "outputs": [
        {
          "output_type": "stream",
          "name": "stdout",
          "text": [
            "Downloading data from https://storage.googleapis.com/tensorflow/tf-keras-datasets/imdb.npz\n",
            "17464789/17464789 [==============================] - 0s 0us/step\n",
            "Epoch 1/20\n",
            "30/30 [==============================] - 3s 58ms/step - loss: 0.5339 - accuracy: 0.7892 - val_loss: 0.4156 - val_accuracy: 0.8522\n",
            "Epoch 2/20\n",
            "30/30 [==============================] - 1s 24ms/step - loss: 0.3359 - accuracy: 0.8903 - val_loss: 0.3173 - val_accuracy: 0.8858\n",
            "Epoch 3/20\n",
            "30/30 [==============================] - 1s 22ms/step - loss: 0.2531 - accuracy: 0.9161 - val_loss: 0.2933 - val_accuracy: 0.8835\n",
            "Epoch 4/20\n",
            "30/30 [==============================] - 1s 22ms/step - loss: 0.2057 - accuracy: 0.9319 - val_loss: 0.2785 - val_accuracy: 0.8907\n",
            "Epoch 5/20\n",
            "30/30 [==============================] - 1s 23ms/step - loss: 0.1725 - accuracy: 0.9429 - val_loss: 0.2744 - val_accuracy: 0.8901\n",
            "Epoch 6/20\n",
            "30/30 [==============================] - 1s 37ms/step - loss: 0.1484 - accuracy: 0.9521 - val_loss: 0.2799 - val_accuracy: 0.8897\n",
            "Epoch 7/20\n",
            "30/30 [==============================] - 1s 44ms/step - loss: 0.1272 - accuracy: 0.9603 - val_loss: 0.3490 - val_accuracy: 0.8696\n",
            "Epoch 8/20\n",
            "30/30 [==============================] - 1s 39ms/step - loss: 0.1131 - accuracy: 0.9655 - val_loss: 0.3028 - val_accuracy: 0.8849\n",
            "Epoch 9/20\n",
            "30/30 [==============================] - 1s 43ms/step - loss: 0.0960 - accuracy: 0.9725 - val_loss: 0.3162 - val_accuracy: 0.8830\n",
            "Epoch 10/20\n",
            "30/30 [==============================] - 1s 22ms/step - loss: 0.0885 - accuracy: 0.9745 - val_loss: 0.3356 - val_accuracy: 0.8818\n",
            "Epoch 11/20\n",
            "30/30 [==============================] - 1s 41ms/step - loss: 0.0733 - accuracy: 0.9806 - val_loss: 0.3871 - val_accuracy: 0.8692\n",
            "Epoch 12/20\n",
            "30/30 [==============================] - 1s 23ms/step - loss: 0.0686 - accuracy: 0.9826 - val_loss: 0.3717 - val_accuracy: 0.8785\n",
            "Epoch 13/20\n",
            "30/30 [==============================] - 1s 23ms/step - loss: 0.0584 - accuracy: 0.9865 - val_loss: 0.3912 - val_accuracy: 0.8754\n",
            "Epoch 14/20\n",
            "30/30 [==============================] - 1s 26ms/step - loss: 0.0510 - accuracy: 0.9884 - val_loss: 0.4268 - val_accuracy: 0.8720\n",
            "Epoch 15/20\n",
            "30/30 [==============================] - 1s 25ms/step - loss: 0.0442 - accuracy: 0.9907 - val_loss: 0.4288 - val_accuracy: 0.8754\n",
            "Epoch 16/20\n",
            "30/30 [==============================] - 1s 25ms/step - loss: 0.0395 - accuracy: 0.9915 - val_loss: 0.4520 - val_accuracy: 0.8742\n",
            "Epoch 17/20\n",
            "30/30 [==============================] - 1s 40ms/step - loss: 0.0355 - accuracy: 0.9922 - val_loss: 0.4850 - val_accuracy: 0.8717\n",
            "Epoch 18/20\n",
            "30/30 [==============================] - 1s 24ms/step - loss: 0.0279 - accuracy: 0.9955 - val_loss: 0.5015 - val_accuracy: 0.8707\n",
            "Epoch 19/20\n",
            "30/30 [==============================] - 1s 24ms/step - loss: 0.0272 - accuracy: 0.9946 - val_loss: 0.5220 - val_accuracy: 0.8710\n",
            "Epoch 20/20\n",
            "30/30 [==============================] - 1s 22ms/step - loss: 0.0244 - accuracy: 0.9947 - val_loss: 0.5470 - val_accuracy: 0.8683\n"
          ]
        }
      ],
      "source": [
        "from tensorflow.keras.datasets import imdb\n",
        "(train_data, train_labels), _ = imdb.load_data(num_words=10000)\n",
        "\n",
        "def vectorize_sequences(sequences, dimension=10000):\n",
        "    results = np.zeros((len(sequences), dimension))\n",
        "    for i, sequence in enumerate(sequences):\n",
        "        results[i, sequence] = 1.\n",
        "    return results\n",
        "train_data = vectorize_sequences(train_data)\n",
        "\n",
        "model = keras.Sequential([\n",
        "    layers.Dense(16, activation=\"relu\"),\n",
        "    layers.Dense(16, activation=\"relu\"),\n",
        "    layers.Dense(1, activation=\"sigmoid\")\n",
        "])\n",
        "model.compile(optimizer=\"rmsprop\",\n",
        "              loss=\"binary_crossentropy\",\n",
        "              metrics=[\"accuracy\"])\n",
        "history_original = model.fit(train_data, train_labels,\n",
        "                             epochs=20, batch_size=512, validation_split=0.4)"
      ]
    },
    {
      "cell_type": "markdown",
      "metadata": {
        "id": "KXRlLCXDwfKM"
      },
      "source": [
        "**Version of the model with lower capacity**"
      ]
    },
    {
      "cell_type": "code",
      "execution_count": 57,
      "metadata": {
        "id": "cPv2OpAtwfKM",
        "outputId": "3810fc87-6fe5-4470-f47e-bf809d441fd1",
        "colab": {
          "base_uri": "https://localhost:8080/"
        }
      },
      "outputs": [
        {
          "output_type": "stream",
          "name": "stdout",
          "text": [
            "Epoch 1/20\n",
            "30/30 [==============================] - 3s 55ms/step - loss: 0.6061 - accuracy: 0.6425 - val_loss: 0.5409 - val_accuracy: 0.7296\n",
            "Epoch 2/20\n",
            "30/30 [==============================] - 1s 24ms/step - loss: 0.5070 - accuracy: 0.7965 - val_loss: 0.5114 - val_accuracy: 0.7577\n",
            "Epoch 3/20\n",
            "30/30 [==============================] - 1s 21ms/step - loss: 0.4620 - accuracy: 0.8607 - val_loss: 0.4798 - val_accuracy: 0.8251\n",
            "Epoch 4/20\n",
            "30/30 [==============================] - 1s 22ms/step - loss: 0.4298 - accuracy: 0.8975 - val_loss: 0.4613 - val_accuracy: 0.8649\n",
            "Epoch 5/20\n",
            "30/30 [==============================] - 1s 24ms/step - loss: 0.4062 - accuracy: 0.9199 - val_loss: 0.4632 - val_accuracy: 0.8499\n",
            "Epoch 6/20\n",
            "30/30 [==============================] - 1s 22ms/step - loss: 0.3853 - accuracy: 0.9338 - val_loss: 0.4447 - val_accuracy: 0.8810\n",
            "Epoch 7/20\n",
            "30/30 [==============================] - 1s 22ms/step - loss: 0.3669 - accuracy: 0.9489 - val_loss: 0.4451 - val_accuracy: 0.8767\n",
            "Epoch 8/20\n",
            "30/30 [==============================] - 1s 22ms/step - loss: 0.3529 - accuracy: 0.9553 - val_loss: 0.4579 - val_accuracy: 0.8641\n",
            "Epoch 9/20\n",
            "30/30 [==============================] - 1s 24ms/step - loss: 0.3384 - accuracy: 0.9619 - val_loss: 0.4610 - val_accuracy: 0.8637\n",
            "Epoch 10/20\n",
            "30/30 [==============================] - 1s 22ms/step - loss: 0.3262 - accuracy: 0.9668 - val_loss: 0.4416 - val_accuracy: 0.8773\n",
            "Epoch 11/20\n",
            "30/30 [==============================] - 1s 25ms/step - loss: 0.3137 - accuracy: 0.9718 - val_loss: 0.4676 - val_accuracy: 0.8687\n",
            "Epoch 12/20\n",
            "30/30 [==============================] - 1s 41ms/step - loss: 0.3027 - accuracy: 0.9755 - val_loss: 0.4796 - val_accuracy: 0.8651\n",
            "Epoch 13/20\n",
            "30/30 [==============================] - 1s 25ms/step - loss: 0.2928 - accuracy: 0.9787 - val_loss: 0.4995 - val_accuracy: 0.8594\n",
            "Epoch 14/20\n",
            "30/30 [==============================] - 1s 22ms/step - loss: 0.2832 - accuracy: 0.9813 - val_loss: 0.4885 - val_accuracy: 0.8660\n",
            "Epoch 15/20\n",
            "30/30 [==============================] - 1s 24ms/step - loss: 0.2743 - accuracy: 0.9830 - val_loss: 0.5179 - val_accuracy: 0.8586\n",
            "Epoch 16/20\n",
            "30/30 [==============================] - 1s 24ms/step - loss: 0.2669 - accuracy: 0.9839 - val_loss: 0.4820 - val_accuracy: 0.8714\n",
            "Epoch 17/20\n",
            "30/30 [==============================] - 1s 24ms/step - loss: 0.2589 - accuracy: 0.9851 - val_loss: 0.5007 - val_accuracy: 0.8686\n",
            "Epoch 18/20\n",
            "30/30 [==============================] - 1s 24ms/step - loss: 0.2511 - accuracy: 0.9871 - val_loss: 0.4934 - val_accuracy: 0.8703\n",
            "Epoch 19/20\n",
            "30/30 [==============================] - 1s 21ms/step - loss: 0.2438 - accuracy: 0.9879 - val_loss: 0.6003 - val_accuracy: 0.8494\n",
            "Epoch 20/20\n",
            "30/30 [==============================] - 1s 24ms/step - loss: 0.2383 - accuracy: 0.9877 - val_loss: 0.5781 - val_accuracy: 0.8565\n"
          ]
        }
      ],
      "source": [
        "model = keras.Sequential([\n",
        "    layers.Dense(4, activation=\"relu\"),\n",
        "    layers.Dense(4, activation=\"relu\"),\n",
        "    layers.Dense(1, activation=\"sigmoid\")\n",
        "])\n",
        "model.compile(optimizer=\"rmsprop\",\n",
        "              loss=\"binary_crossentropy\",\n",
        "              metrics=[\"accuracy\"])\n",
        "history_smaller_model = model.fit(\n",
        "    train_data, train_labels,\n",
        "    epochs=20, batch_size=512, validation_split=0.4)"
      ]
    },
    {
      "cell_type": "markdown",
      "metadata": {
        "id": "mAFuHp94wfKM"
      },
      "source": [
        "**Version of the model with higher capacity**"
      ]
    },
    {
      "cell_type": "code",
      "execution_count": 58,
      "metadata": {
        "id": "7MXMZUeawfKM",
        "outputId": "cca7aafd-f32b-463e-c51a-135eb0ffa609",
        "colab": {
          "base_uri": "https://localhost:8080/"
        }
      },
      "outputs": [
        {
          "output_type": "stream",
          "name": "stdout",
          "text": [
            "Epoch 1/20\n",
            "30/30 [==============================] - 3s 57ms/step - loss: 0.5786 - accuracy: 0.7115 - val_loss: 0.4121 - val_accuracy: 0.8158\n",
            "Epoch 2/20\n",
            "30/30 [==============================] - 1s 34ms/step - loss: 0.3281 - accuracy: 0.8635 - val_loss: 0.3283 - val_accuracy: 0.8636\n",
            "Epoch 3/20\n",
            "30/30 [==============================] - 1s 43ms/step - loss: 0.2422 - accuracy: 0.9034 - val_loss: 0.3476 - val_accuracy: 0.8559\n",
            "Epoch 4/20\n",
            "30/30 [==============================] - 1s 27ms/step - loss: 0.1823 - accuracy: 0.9287 - val_loss: 0.2724 - val_accuracy: 0.8884\n",
            "Epoch 5/20\n",
            "30/30 [==============================] - 1s 44ms/step - loss: 0.1381 - accuracy: 0.9486 - val_loss: 0.2867 - val_accuracy: 0.8903\n",
            "Epoch 6/20\n",
            "30/30 [==============================] - 1s 37ms/step - loss: 0.1061 - accuracy: 0.9641 - val_loss: 0.4357 - val_accuracy: 0.8335\n",
            "Epoch 7/20\n",
            "30/30 [==============================] - 1s 25ms/step - loss: 0.0820 - accuracy: 0.9709 - val_loss: 0.3198 - val_accuracy: 0.8875\n",
            "Epoch 8/20\n",
            "30/30 [==============================] - 1s 27ms/step - loss: 0.0767 - accuracy: 0.9764 - val_loss: 0.3050 - val_accuracy: 0.8821\n",
            "Epoch 9/20\n",
            "30/30 [==============================] - 1s 28ms/step - loss: 0.0186 - accuracy: 0.9982 - val_loss: 0.4511 - val_accuracy: 0.8802\n",
            "Epoch 10/20\n",
            "30/30 [==============================] - 1s 25ms/step - loss: 0.0799 - accuracy: 0.9791 - val_loss: 0.3666 - val_accuracy: 0.8849\n",
            "Epoch 11/20\n",
            "30/30 [==============================] - 1s 28ms/step - loss: 0.0068 - accuracy: 0.9996 - val_loss: 0.4774 - val_accuracy: 0.8823\n",
            "Epoch 12/20\n",
            "30/30 [==============================] - 1s 25ms/step - loss: 0.0032 - accuracy: 0.9999 - val_loss: 0.9134 - val_accuracy: 0.8288\n",
            "Epoch 13/20\n",
            "30/30 [==============================] - 1s 27ms/step - loss: 0.1051 - accuracy: 0.9803 - val_loss: 0.4462 - val_accuracy: 0.8848\n",
            "Epoch 14/20\n",
            "30/30 [==============================] - 1s 47ms/step - loss: 0.0022 - accuracy: 0.9999 - val_loss: 0.5296 - val_accuracy: 0.8853\n",
            "Epoch 15/20\n",
            "30/30 [==============================] - 2s 58ms/step - loss: 0.0012 - accuracy: 1.0000 - val_loss: 0.5828 - val_accuracy: 0.8842\n",
            "Epoch 16/20\n",
            "30/30 [==============================] - 1s 33ms/step - loss: 0.1114 - accuracy: 0.9807 - val_loss: 0.4498 - val_accuracy: 0.8868\n",
            "Epoch 17/20\n",
            "30/30 [==============================] - 1s 27ms/step - loss: 0.0020 - accuracy: 1.0000 - val_loss: 0.5108 - val_accuracy: 0.8857\n",
            "Epoch 18/20\n",
            "30/30 [==============================] - 1s 26ms/step - loss: 9.1212e-04 - accuracy: 1.0000 - val_loss: 0.5790 - val_accuracy: 0.8851\n",
            "Epoch 19/20\n",
            "30/30 [==============================] - 1s 27ms/step - loss: 5.4426e-04 - accuracy: 1.0000 - val_loss: 0.6345 - val_accuracy: 0.8835\n",
            "Epoch 20/20\n",
            "30/30 [==============================] - 1s 24ms/step - loss: 3.7950e-04 - accuracy: 1.0000 - val_loss: 0.6560 - val_accuracy: 0.8851\n"
          ]
        }
      ],
      "source": [
        "model = keras.Sequential([\n",
        "    layers.Dense(512, activation=\"relu\"),\n",
        "    layers.Dense(512, activation=\"relu\"),\n",
        "    layers.Dense(1, activation=\"sigmoid\")\n",
        "])\n",
        "model.compile(optimizer=\"rmsprop\",\n",
        "              loss=\"binary_crossentropy\",\n",
        "              metrics=[\"accuracy\"])\n",
        "history_larger_model = model.fit(\n",
        "    train_data, train_labels,\n",
        "    epochs=20, batch_size=512, validation_split=0.4)"
      ]
    },
    {
      "cell_type": "code",
      "source": [
        "import matplotlib.pyplot as plt\n",
        "val_acc_larger = history_larger_model.history[\"val_accuracy\"]\n",
        "val_acc_smaller = history_smaller_model.history[\"val_accuracy\"]\n",
        "val_acc_original = history_original.history[\"val_accuracy\"]\n",
        "epochs = range(1, 21)\n",
        "plt.plot(epochs, val_acc_larger,\n",
        "         label=\"Validation accuracy with larger capacity\")\n",
        "plt.plot(epochs, val_acc_smaller,\n",
        "         label=\"Validation accuracy with smaller capacity\")\n",
        "plt.plot(epochs, val_acc_original,\n",
        "         label=\"Validation accuracy with original capacity\")\n",
        "plt.title(\"Effect of Model Capacity on validation accuracy\")\n",
        "plt.xlabel(\"Epochs\")\n",
        "plt.ylabel(\"Accuracy\")\n",
        "plt.legend()"
      ],
      "metadata": {
        "id": "cKEC3OYj88qh",
        "outputId": "05235f99-1e65-45e8-d357-e8793878f576",
        "colab": {
          "base_uri": "https://localhost:8080/",
          "height": 490
        }
      },
      "execution_count": 65,
      "outputs": [
        {
          "output_type": "execute_result",
          "data": {
            "text/plain": [
              "<matplotlib.legend.Legend at 0x7f4dbe03e5b0>"
            ]
          },
          "metadata": {},
          "execution_count": 65
        },
        {
          "output_type": "display_data",
          "data": {
            "text/plain": [
              "<Figure size 640x480 with 1 Axes>"
            ],
            "image/png": "[encoded data removed]"
          },
          "metadata": {}
        }
      ]
    },
    {
      "cell_type": "markdown",
      "metadata": {
        "id": "Tthsu0eEwfKN"
      },
      "source": [
        "#### Adding weight regularization"
      ]
    },
    {
      "cell_type": "markdown",
      "metadata": {
        "id": "2G1h_i6lwfKN"
      },
      "source": [
        "**Adding L2 weight regularization to the model**"
      ]
    },
    {
      "cell_type": "code",
      "execution_count": null,
      "metadata": {
        "id": "E2HiLoOswfKN"
      },
      "outputs": [],
      "source": [
        "from tensorflow.keras import regularizers\n",
        "model = keras.Sequential([\n",
        "    layers.Dense(16,\n",
        "                 kernel_regularizer=regularizers.l2(0.002),\n",
        "                 activation=\"relu\"),\n",
        "    layers.Dense(16,\n",
        "                 kernel_regularizer=regularizers.l2(0.002),\n",
        "                 activation=\"relu\"),\n",
        "    layers.Dense(1, activation=\"sigmoid\")\n",
        "])\n",
        "model.compile(optimizer=\"rmsprop\",\n",
        "              loss=\"binary_crossentropy\",\n",
        "              metrics=[\"accuracy\"])\n",
        "history_l2_reg = model.fit(\n",
        "    train_data, train_labels,\n",
        "    epochs=20, batch_size=512, validation_split=0.4)"
      ]
    },
    {
      "cell_type": "markdown",
      "metadata": {
        "id": "9RoiBjFawfKN"
      },
      "source": [
        "**Different weight regularizers available in Keras**"
      ]
    },
    {
      "cell_type": "code",
      "execution_count": null,
      "metadata": {
        "id": "w96Bc0R8wfKN"
      },
      "outputs": [],
      "source": [
        "from tensorflow.keras import regularizers\n",
        "regularizers.l1(0.001)\n",
        "regularizers.l1_l2(l1=0.001, l2=0.001)"
      ]
    },
    {
      "cell_type": "markdown",
      "metadata": {
        "id": "GMoO_l_VwfKN"
      },
      "source": [
        "#### Adding dropout"
      ]
    },
    {
      "cell_type": "markdown",
      "metadata": {
        "id": "QTck3tn6wfKN"
      },
      "source": [
        "**Adding dropout to the IMDB model**"
      ]
    },
    {
      "cell_type": "code",
      "source": [
        "model = keras.Sequential([\n",
        "    layers.Dense(16, activation=\"relu\"),\n",
        "    layers.Dense(16, activation=\"relu\"),\n",
        "    layers.Dense(1, activation=\"sigmoid\")\n",
        "])\n",
        "model.compile(optimizer=\"rmsprop\",\n",
        "              loss=\"binary_crossentropy\",\n",
        "              metrics=[\"accuracy\"])\n",
        "history__without_dropout = model.fit(\n",
        "    train_data, train_labels,\n",
        "    epochs=20, batch_size=512, validation_split=0.4)"
      ],
      "metadata": {
        "id": "Xw5-Lxd-ATI3",
        "outputId": "01908f36-ad7e-4a01-85e3-86357daa7b03",
        "colab": {
          "base_uri": "https://localhost:8080/"
        }
      },
      "execution_count": 66,
      "outputs": [
        {
          "output_type": "stream",
          "name": "stdout",
          "text": [
            "Epoch 1/20\n",
            "30/30 [==============================] - 3s 61ms/step - loss: 0.5602 - accuracy: 0.7619 - val_loss: 0.4305 - val_accuracy: 0.8726\n",
            "Epoch 2/20\n",
            "30/30 [==============================] - 1s 24ms/step - loss: 0.3591 - accuracy: 0.8858 - val_loss: 0.3347 - val_accuracy: 0.8829\n",
            "Epoch 3/20\n",
            "30/30 [==============================] - 1s 25ms/step - loss: 0.2629 - accuracy: 0.9147 - val_loss: 0.2977 - val_accuracy: 0.8870\n",
            "Epoch 4/20\n",
            "30/30 [==============================] - 1s 29ms/step - loss: 0.2108 - accuracy: 0.9311 - val_loss: 0.2805 - val_accuracy: 0.8914\n",
            "Epoch 5/20\n",
            "30/30 [==============================] - 2s 53ms/step - loss: 0.1732 - accuracy: 0.9449 - val_loss: 0.2830 - val_accuracy: 0.8866\n",
            "Epoch 6/20\n",
            "30/30 [==============================] - 1s 33ms/step - loss: 0.1511 - accuracy: 0.9503 - val_loss: 0.2794 - val_accuracy: 0.8898\n",
            "Epoch 7/20\n",
            "30/30 [==============================] - 1s 28ms/step - loss: 0.1260 - accuracy: 0.9624 - val_loss: 0.2884 - val_accuracy: 0.8881\n",
            "Epoch 8/20\n",
            "30/30 [==============================] - 1s 29ms/step - loss: 0.1100 - accuracy: 0.9670 - val_loss: 0.3276 - val_accuracy: 0.8774\n",
            "Epoch 9/20\n",
            "30/30 [==============================] - 1s 42ms/step - loss: 0.0977 - accuracy: 0.9706 - val_loss: 0.3175 - val_accuracy: 0.8832\n",
            "Epoch 10/20\n",
            "30/30 [==============================] - 1s 36ms/step - loss: 0.0849 - accuracy: 0.9764 - val_loss: 0.3481 - val_accuracy: 0.8771\n",
            "Epoch 11/20\n",
            "30/30 [==============================] - 1s 34ms/step - loss: 0.0708 - accuracy: 0.9823 - val_loss: 0.3551 - val_accuracy: 0.8789\n",
            "Epoch 12/20\n",
            "30/30 [==============================] - 1s 38ms/step - loss: 0.0645 - accuracy: 0.9843 - val_loss: 0.3695 - val_accuracy: 0.8784\n",
            "Epoch 13/20\n",
            "30/30 [==============================] - 1s 39ms/step - loss: 0.0525 - accuracy: 0.9877 - val_loss: 0.3928 - val_accuracy: 0.8756\n",
            "Epoch 14/20\n",
            "30/30 [==============================] - 1s 37ms/step - loss: 0.0487 - accuracy: 0.9889 - val_loss: 0.4019 - val_accuracy: 0.8770\n",
            "Epoch 15/20\n",
            "30/30 [==============================] - 1s 28ms/step - loss: 0.0392 - accuracy: 0.9926 - val_loss: 0.4764 - val_accuracy: 0.8678\n",
            "Epoch 16/20\n",
            "30/30 [==============================] - 1s 38ms/step - loss: 0.0355 - accuracy: 0.9933 - val_loss: 0.4473 - val_accuracy: 0.8746\n",
            "Epoch 17/20\n",
            "30/30 [==============================] - 1s 38ms/step - loss: 0.0284 - accuracy: 0.9955 - val_loss: 0.4674 - val_accuracy: 0.8722\n",
            "Epoch 18/20\n",
            "30/30 [==============================] - 1s 41ms/step - loss: 0.0268 - accuracy: 0.9957 - val_loss: 0.6016 - val_accuracy: 0.8555\n",
            "Epoch 19/20\n",
            "30/30 [==============================] - 1s 29ms/step - loss: 0.0207 - accuracy: 0.9971 - val_loss: 0.5077 - val_accuracy: 0.8705\n",
            "Epoch 20/20\n",
            "30/30 [==============================] - 1s 26ms/step - loss: 0.0195 - accuracy: 0.9974 - val_loss: 0.5382 - val_accuracy: 0.8704\n"
          ]
        }
      ]
    },
    {
      "cell_type": "code",
      "execution_count": 67,
      "metadata": {
        "id": "jpcpiTuXwfKN",
        "outputId": "566ca0a3-330a-4db9-d01e-47561b771a48",
        "colab": {
          "base_uri": "https://localhost:8080/"
        }
      },
      "outputs": [
        {
          "output_type": "stream",
          "name": "stdout",
          "text": [
            "Epoch 1/20\n",
            "30/30 [==============================] - 4s 79ms/step - loss: 0.6430 - accuracy: 0.6170 - val_loss: 0.5441 - val_accuracy: 0.8329\n",
            "Epoch 2/20\n",
            "30/30 [==============================] - 1s 25ms/step - loss: 0.5404 - accuracy: 0.7375 - val_loss: 0.4264 - val_accuracy: 0.8666\n",
            "Epoch 3/20\n",
            "30/30 [==============================] - 1s 31ms/step - loss: 0.4591 - accuracy: 0.8013 - val_loss: 0.3737 - val_accuracy: 0.8735\n",
            "Epoch 4/20\n",
            "30/30 [==============================] - 1s 34ms/step - loss: 0.4023 - accuracy: 0.8377 - val_loss: 0.3235 - val_accuracy: 0.8858\n",
            "Epoch 5/20\n",
            "30/30 [==============================] - 1s 41ms/step - loss: 0.3526 - accuracy: 0.8658 - val_loss: 0.2916 - val_accuracy: 0.8880\n",
            "Epoch 6/20\n",
            "30/30 [==============================] - 1s 29ms/step - loss: 0.3149 - accuracy: 0.8883 - val_loss: 0.2908 - val_accuracy: 0.8827\n",
            "Epoch 7/20\n",
            "30/30 [==============================] - 1s 26ms/step - loss: 0.2783 - accuracy: 0.9079 - val_loss: 0.2798 - val_accuracy: 0.8863\n",
            "Epoch 8/20\n",
            "30/30 [==============================] - 1s 25ms/step - loss: 0.2503 - accuracy: 0.9195 - val_loss: 0.2761 - val_accuracy: 0.8909\n",
            "Epoch 9/20\n",
            "30/30 [==============================] - 1s 22ms/step - loss: 0.2235 - accuracy: 0.9303 - val_loss: 0.2868 - val_accuracy: 0.8905\n",
            "Epoch 10/20\n",
            "30/30 [==============================] - 1s 37ms/step - loss: 0.2058 - accuracy: 0.9342 - val_loss: 0.3077 - val_accuracy: 0.8805\n",
            "Epoch 11/20\n",
            "30/30 [==============================] - 1s 26ms/step - loss: 0.1836 - accuracy: 0.9399 - val_loss: 0.3036 - val_accuracy: 0.8883\n",
            "Epoch 12/20\n",
            "30/30 [==============================] - 1s 23ms/step - loss: 0.1657 - accuracy: 0.9487 - val_loss: 0.3362 - val_accuracy: 0.8858\n",
            "Epoch 13/20\n",
            "30/30 [==============================] - 1s 28ms/step - loss: 0.1516 - accuracy: 0.9502 - val_loss: 0.3447 - val_accuracy: 0.8846\n",
            "Epoch 14/20\n",
            "30/30 [==============================] - 1s 23ms/step - loss: 0.1366 - accuracy: 0.9559 - val_loss: 0.3604 - val_accuracy: 0.8854\n",
            "Epoch 15/20\n",
            "30/30 [==============================] - 1s 21ms/step - loss: 0.1245 - accuracy: 0.9620 - val_loss: 0.4000 - val_accuracy: 0.8850\n",
            "Epoch 16/20\n",
            "30/30 [==============================] - 1s 26ms/step - loss: 0.1204 - accuracy: 0.9601 - val_loss: 0.4459 - val_accuracy: 0.8833\n",
            "Epoch 17/20\n",
            "30/30 [==============================] - 1s 28ms/step - loss: 0.1163 - accuracy: 0.9629 - val_loss: 0.4427 - val_accuracy: 0.8828\n",
            "Epoch 18/20\n",
            "30/30 [==============================] - 1s 26ms/step - loss: 0.1040 - accuracy: 0.9665 - val_loss: 0.4600 - val_accuracy: 0.8830\n",
            "Epoch 19/20\n",
            "30/30 [==============================] - 1s 29ms/step - loss: 0.0984 - accuracy: 0.9691 - val_loss: 0.5017 - val_accuracy: 0.8838\n",
            "Epoch 20/20\n",
            "30/30 [==============================] - 1s 36ms/step - loss: 0.0900 - accuracy: 0.9715 - val_loss: 0.5127 - val_accuracy: 0.8810\n"
          ]
        }
      ],
      "source": [
        "model = keras.Sequential([\n",
        "    layers.Dense(16, activation=\"relu\"),\n",
        "    layers.Dropout(0.5),\n",
        "    layers.Dense(16, activation=\"relu\"),\n",
        "    layers.Dropout(0.5),\n",
        "    layers.Dense(1, activation=\"sigmoid\")\n",
        "])\n",
        "model.compile(optimizer=\"rmsprop\",\n",
        "              loss=\"binary_crossentropy\",\n",
        "              metrics=[\"accuracy\"])\n",
        "history_dropout = model.fit(\n",
        "    train_data, train_labels,\n",
        "    epochs=20, batch_size=512, validation_split=0.4)"
      ]
    },
    {
      "cell_type": "code",
      "source": [
        "import matplotlib.pyplot as plt\n",
        "val_no_droupout = history__without_dropout.history[\"val_accuracy\"]\n",
        "val_w_droupout = history_dropout.history[\"val_accuracy\"]\n",
        "epochs = range(1, 21)\n",
        "plt.plot(epochs, val_no_droupout,\n",
        "         label=\"Validation accuracy without Dropout\")\n",
        "plt.plot(epochs, val_w_droupout,\n",
        "         label=\"Validation accuracy with Dropout\")\n",
        "plt.title(\"Effect of Dropout on validation accuracy\")\n",
        "plt.xlabel(\"Epochs\")\n",
        "plt.ylabel(\"Accuracy\")\n",
        "plt.legend()"
      ],
      "metadata": {
        "id": "81TCgRDBASPQ",
        "outputId": "2c098e41-fb4c-4719-9d1b-1b97d9b86337",
        "colab": {
          "base_uri": "https://localhost:8080/",
          "height": 490
        }
      },
      "execution_count": 68,
      "outputs": [
        {
          "output_type": "execute_result",
          "data": {
            "text/plain": [
              "<matplotlib.legend.Legend at 0x7f4ebc4c8bb0>"
            ]
          },
          "metadata": {},
          "execution_count": 68
        },
        {
          "output_type": "display_data",
          "data": {
            "text/plain": [
              "<Figure size 640x480 with 1 Axes>"
            ],
            "image/png": "[encoded data removed]"
          },
          "metadata": {}
        }
      ]
    },
    {
      "cell_type": "code",
      "source": [],
      "metadata": {
        "id": "-BzeXXl0-pDE"
      },
      "execution_count": null,
      "outputs": []
    },
    {
      "cell_type": "markdown",
      "metadata": {
        "id": "LoC4YRkYwfKN"
      },
      "source": [
        "## Summary"
      ]
    }
  ],
  "metadata": {
    "colab": {
      "name": "chapter05_fundamentals-of-ml.i",
      "provenance": []
    },
    "kernelspec": {
      "display_name": "Python 3",
      "language": "python",
      "name": "python3"
    },
    "language_info": {
      "codemirror_mode": {
        "name": "ipython",
        "version": 3
      },
      "file_extension": ".py",
      "mimetype": "text/x-python",
      "name": "python",
      "nbconvert_exporter": "python",
      "pygments_lexer": "ipython3",
      "version": "3.7.0"
    },
    "accelerator": "GPU",
    "gpuClass": "standard"
  },
  "nbformat": 4,
  "nbformat_minor": 0
}