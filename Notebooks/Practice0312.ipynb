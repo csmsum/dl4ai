{
  "nbformat": 4,
  "nbformat_minor": 0,
  "metadata": {
    "colab": {
      "provenance": [],
      "authorship_tag": "ABX9TyO0L2HoZSuxdy6fB9nNkhHR",
      "include_colab_link": true
    },
    "kernelspec": {
      "name": "python3",
      "display_name": "Python 3"
    },
    "language_info": {
      "name": "python"
    }
  },
  "cells": [
    {
      "cell_type": "markdown",
      "metadata": {
        "id": "view-in-github",
        "colab_type": "text"
      },
      "source": [
        "<a href=\"https://colab.research.google.com/github/csmsum/dl4ai/blob/main/Notebooks/Practice0312.ipynb\" target=\"_parent\"><img src=\"https://colab.research.google.com/assets/colab-badge.svg\" alt=\"Open In Colab\"/></a>"
      ]
    },
    {
      "cell_type": "markdown",
      "source": [
        "### 추승민\n",
        "\n",
        "- list1 \n",
        "- list2\n",
        "\n",
        "This is for class homework."
      ],
      "metadata": {
        "id": "eTwFTIEaMrqO"
      }
    },
    {
      "cell_type": "code",
      "execution_count": 5,
      "metadata": {
        "colab": {
          "base_uri": "https://localhost:8080/"
        },
        "id": "mn_Ei7mjMq-Z",
        "outputId": "9c5a3309-d4ea-4ce8-a71b-0cc3cc98bdb6"
      },
      "outputs": [
        {
          "output_type": "execute_result",
          "data": {
            "text/plain": [
              "True"
            ]
          },
          "metadata": {},
          "execution_count": 5
        }
      ],
      "source": [
        "1 * 2 == 2"
      ]
    },
    {
      "cell_type": "markdown",
      "source": [
        "I am genius."
      ],
      "metadata": {
        "id": "P38tJyAWM1bc"
      }
    },
    {
      "cell_type": "code",
      "source": [],
      "metadata": {
        "id": "640JiZ_zMz-R"
      },
      "execution_count": null,
      "outputs": []
    }
  ]
}